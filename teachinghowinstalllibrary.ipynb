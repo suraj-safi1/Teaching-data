{
  "nbformat": 4,
  "nbformat_minor": 0,
  "metadata": {
    "colab": {
      "name": "teachinghowinstalllibrary.ipynb",
      "provenance": [],
      "authorship_tag": "ABX9TyNm3oO/SojAK3BLJvtwt+rt",
      "include_colab_link": true
    },
    "kernelspec": {
      "name": "python3",
      "display_name": "Python 3"
    },
    "language_info": {
      "name": "python"
    }
  },
  "cells": [
    {
      "cell_type": "markdown",
      "metadata": {
        "id": "view-in-github",
        "colab_type": "text"
      },
      "source": [
        "<a href=\"https://colab.research.google.com/github/suraj-safi1/Teaching-data/blob/main/teachinghowinstalllibrary.ipynb\" target=\"_parent\"><img src=\"https://colab.research.google.com/assets/colab-badge.svg\" alt=\"Open In Colab\"/></a>"
      ]
    },
    {
      "cell_type": "code",
      "execution_count": null,
      "metadata": {
        "colab": {
          "base_uri": "https://localhost:8080/"
        },
        "id": "btONEHuXBIxR",
        "outputId": "c69a936e-ccdb-4a7b-94bf-f20afc5b4825"
      },
      "outputs": [
        {
          "output_type": "stream",
          "name": "stdout",
          "text": [
            "Collecting pyttsx3\n",
            "  Downloading pyttsx3-2.90-py3-none-any.whl (39 kB)\n",
            "Installing collected packages: pyttsx3\n",
            "Successfully installed pyttsx3-2.90\n"
          ]
        }
      ],
      "source": [
        "pip install pyttsx3"
      ]
    },
    {
      "cell_type": "code",
      "source": [
        "pip install datetime\n"
      ],
      "metadata": {
        "colab": {
          "base_uri": "https://localhost:8080/"
        },
        "id": "CWQgR-MbFQJ9",
        "outputId": "d11d260b-5a5b-4551-cf73-b8e3517cfbb4"
      },
      "execution_count": null,
      "outputs": [
        {
          "output_type": "stream",
          "name": "stdout",
          "text": [
            "Collecting datetime\n",
            "  Downloading DateTime-4.3-py2.py3-none-any.whl (60 kB)\n",
            "\u001b[?25l\r\u001b[K     |█████▌                          | 10 kB 24.2 MB/s eta 0:00:01\r\u001b[K     |███████████                     | 20 kB 28.1 MB/s eta 0:00:01\r\u001b[K     |████████████████▍               | 30 kB 31.1 MB/s eta 0:00:01\r\u001b[K     |█████████████████████▉          | 40 kB 21.4 MB/s eta 0:00:01\r\u001b[K     |███████████████████████████▎    | 51 kB 11.6 MB/s eta 0:00:01\r\u001b[K     |████████████████████████████████| 60 kB 4.6 MB/s \n",
            "\u001b[?25hRequirement already satisfied: pytz in /usr/local/lib/python3.7/dist-packages (from datetime) (2018.9)\n",
            "Collecting zope.interface\n",
            "  Downloading zope.interface-5.4.0-cp37-cp37m-manylinux2010_x86_64.whl (251 kB)\n",
            "\u001b[K     |████████████████████████████████| 251 kB 19.2 MB/s \n",
            "\u001b[?25hRequirement already satisfied: setuptools in /usr/local/lib/python3.7/dist-packages (from zope.interface->datetime) (57.4.0)\n",
            "Installing collected packages: zope.interface, datetime\n",
            "Successfully installed datetime-4.3 zope.interface-5.4.0\n"
          ]
        }
      ]
    },
    {
      "cell_type": "code",
      "source": [
        "pip install Exception\n"
      ],
      "metadata": {
        "colab": {
          "base_uri": "https://localhost:8080/",
          "height": 225
        },
        "id": "Yk3EjbePFXDJ",
        "outputId": "cc404e55-4d57-453d-fd5d-0e3775e126f0"
      },
      "execution_count": null,
      "outputs": [
        {
          "output_type": "stream",
          "name": "stdout",
          "text": [
            "Collecting Exception\n",
            "  Downloading exception-0.1.0-py2.py3-none-any.whl (5.7 kB)\n",
            "Collecting argparse\n",
            "  Downloading argparse-1.4.0-py2.py3-none-any.whl (23 kB)\n",
            "Requirement already satisfied: six in /usr/local/lib/python3.7/dist-packages (from Exception) (1.15.0)\n",
            "Installing collected packages: argparse, Exception\n",
            "Successfully installed Exception-0.1.0 argparse-1.4.0\n"
          ]
        },
        {
          "output_type": "display_data",
          "data": {
            "application/vnd.colab-display-data+json": {
              "pip_warning": {
                "packages": [
                  "argparse"
                ]
              }
            }
          },
          "metadata": {}
        }
      ]
    },
    {
      "cell_type": "code",
      "source": [
        "pip install speechRecognition"
      ],
      "metadata": {
        "colab": {
          "base_uri": "https://localhost:8080/"
        },
        "id": "VklHIereB0Ni",
        "outputId": "b57fd90e-769e-45c6-e60d-c0f965c851b7"
      },
      "execution_count": null,
      "outputs": [
        {
          "output_type": "stream",
          "name": "stdout",
          "text": [
            "Collecting speechRecognition\n",
            "  Downloading SpeechRecognition-3.8.1-py2.py3-none-any.whl (32.8 MB)\n",
            "\u001b[K     |████████████████████████████████| 32.8 MB 105 kB/s \n",
            "\u001b[?25hInstalling collected packages: speechRecognition\n",
            "Successfully installed speechRecognition-3.8.1\n"
          ]
        }
      ]
    },
    {
      "cell_type": "code",
      "source": [
        "pip install Exception"
      ],
      "metadata": {
        "colab": {
          "base_uri": "https://localhost:8080/",
          "height": 207
        },
        "id": "r53Kz_ofK8Nk",
        "outputId": "a6c98434-e0b8-43b4-bb15-42783c59abb1"
      },
      "execution_count": null,
      "outputs": [
        {
          "output_type": "stream",
          "name": "stdout",
          "text": [
            "Requirement already satisfied: Exception in /usr/local/lib/python3.7/dist-packages (0.1.0)\n",
            "Requirement already satisfied: six in /usr/local/lib/python3.7/dist-packages (from Exception) (1.15.0)\n",
            "Collecting argparse\n",
            "  Using cached argparse-1.4.0-py2.py3-none-any.whl (23 kB)\n",
            "Installing collected packages: argparse\n",
            "Successfully installed argparse-1.4.0\n"
          ]
        },
        {
          "output_type": "display_data",
          "data": {
            "application/vnd.colab-display-data+json": {
              "pip_warning": {
                "packages": [
                  "argparse"
                ]
              }
            }
          },
          "metadata": {}
        }
      ]
    },
    {
      "cell_type": "code",
      "source": [
        "pip install comtypes"
      ],
      "metadata": {
        "colab": {
          "base_uri": "https://localhost:8080/"
        },
        "id": "xegQhpFaLaJs",
        "outputId": "c9f2ba24-5ac9-4db3-f206-9c92a1351a1b"
      },
      "execution_count": null,
      "outputs": [
        {
          "output_type": "stream",
          "name": "stdout",
          "text": [
            "Collecting comtypes\n",
            "  Downloading comtypes-1.1.10.tar.gz (145 kB)\n",
            "\u001b[?25l\r\u001b[K     |██▎                             | 10 kB 19.1 MB/s eta 0:00:01\r\u001b[K     |████▌                           | 20 kB 25.1 MB/s eta 0:00:01\r\u001b[K     |██████▊                         | 30 kB 15.5 MB/s eta 0:00:01\r\u001b[K     |█████████                       | 40 kB 11.5 MB/s eta 0:00:01\r\u001b[K     |███████████▎                    | 51 kB 7.9 MB/s eta 0:00:01\r\u001b[K     |█████████████▌                  | 61 kB 8.1 MB/s eta 0:00:01\r\u001b[K     |███████████████▊                | 71 kB 7.2 MB/s eta 0:00:01\r\u001b[K     |██████████████████              | 81 kB 7.9 MB/s eta 0:00:01\r\u001b[K     |████████████████████▎           | 92 kB 6.7 MB/s eta 0:00:01\r\u001b[K     |██████████████████████▌         | 102 kB 7.3 MB/s eta 0:00:01\r\u001b[K     |████████████████████████▊       | 112 kB 7.3 MB/s eta 0:00:01\r\u001b[K     |███████████████████████████     | 122 kB 7.3 MB/s eta 0:00:01\r\u001b[K     |█████████████████████████████▎  | 133 kB 7.3 MB/s eta 0:00:01\r\u001b[K     |███████████████████████████████▌| 143 kB 7.3 MB/s eta 0:00:01\r\u001b[K     |████████████████████████████████| 145 kB 7.3 MB/s \n",
            "\u001b[?25hBuilding wheels for collected packages: comtypes\n",
            "  Building wheel for comtypes (setup.py) ... \u001b[?25l\u001b[?25hdone\n",
            "  Created wheel for comtypes: filename=comtypes-1.1.10-py3-none-any.whl size=164937 sha256=56bca24f4be7f17289f61f16c74e26070341de59d392e8c124c72829ef6f5606\n",
            "  Stored in directory: /root/.cache/pip/wheels/ac/d9/86/f150377841ceef17cc9831ead2989c241b39e973269b347653\n",
            "Successfully built comtypes\n",
            "Installing collected packages: comtypes\n",
            "Successfully installed comtypes-1.1.10\n"
          ]
        }
      ]
    },
    {
      "cell_type": "code",
      "source": [
        "import ctypes\n"
      ],
      "metadata": {
        "id": "kSgOvyPcL3bq"
      },
      "execution_count": null,
      "outputs": []
    },
    {
      "cell_type": "code",
      "source": [
        "import pyttsx3\n",
        "import speech_recognition as sr\n",
        "import datetime\n",
        "import comtypes.client\n",
        "import ctypes\n",
        "from ctypes import *\n",
        "from _ctypes import COMError\n",
        "from comtypes import patcher\n",
        "\n",
        "\n",
        "\n",
        "engine= pyttsx3.init('sapi5')\n",
        "voices = engine.getProperty('voices')\n",
        "#print(voices[1].id)\n",
        "engine.setProperty('voice',voices[0].id)\n",
        "\n",
        "def speak(audio):\n",
        "    engine.say(audio)\n",
        "    engine.runAndWait()\n",
        "def wishMe():\n",
        "    hour = int(datetime.datetime.now().hour)\n",
        "    if hour>=0 and hour<12:\n",
        "         speak(\"Good Morning!\")\n",
        "    elif hour>=12 and hour<18:\n",
        "        speak('Good Afternoon!')\n",
        "    else:\n",
        "        speak(\"Good Evening!\")\n",
        "\n",
        "    speak(\"I am jarvis sir. Please tell me how i help you sir\")\n",
        "def takeCommand():\n",
        "    r = sr.Recogniser()\n",
        "    with sr.Microphone() as source:\n",
        "        print('Listing.....')\n",
        "        r.pause_threshold = 1\n",
        "        audio=r.listen(source)\n",
        "    try:\n",
        "        print(\"Recognizing...\")\n",
        "        query = r.recognize_google(audio ,Language='en-in')\n",
        "        print(f\"user said: {query}\\n\")\n",
        "    \n",
        "    except Exception as e:\n",
        "        #print(e)\n",
        "        print(\"say that again please....\")\n",
        "        return \"none\"\n",
        "    return query\n",
        "if __name__ == \"_main_\":\n",
        "    wishMe()\n",
        "    takeCommand()"
      ],
      "metadata": {
        "id": "kCg8WOc_BsNy",
        "colab": {
          "base_uri": "https://localhost:8080/",
          "height": 495
        },
        "outputId": "8b462f95-04a3-4d95-944b-45e8fab73ecb"
      },
      "execution_count": null,
      "outputs": [
        {
          "output_type": "error",
          "ename": "ImportError",
          "evalue": "ignored",
          "traceback": [
            "\u001b[0;31m---------------------------------------------------------------------------\u001b[0m",
            "\u001b[0;31mImportError\u001b[0m                               Traceback (most recent call last)",
            "\u001b[0;32m<ipython-input-10-fe3334ba3c3f>\u001b[0m in \u001b[0;36m<module>\u001b[0;34m()\u001b[0m\n\u001b[1;32m      2\u001b[0m \u001b[0;32mimport\u001b[0m \u001b[0mspeech_recognition\u001b[0m \u001b[0;32mas\u001b[0m \u001b[0msr\u001b[0m\u001b[0;34m\u001b[0m\u001b[0;34m\u001b[0m\u001b[0m\n\u001b[1;32m      3\u001b[0m \u001b[0;32mimport\u001b[0m \u001b[0mdatetime\u001b[0m\u001b[0;34m\u001b[0m\u001b[0;34m\u001b[0m\u001b[0m\n\u001b[0;32m----> 4\u001b[0;31m \u001b[0;32mimport\u001b[0m \u001b[0mcomtypes\u001b[0m\u001b[0;34m.\u001b[0m\u001b[0mclient\u001b[0m\u001b[0;34m\u001b[0m\u001b[0;34m\u001b[0m\u001b[0m\n\u001b[0m\u001b[1;32m      5\u001b[0m \u001b[0;32mimport\u001b[0m \u001b[0mctypes\u001b[0m\u001b[0;34m\u001b[0m\u001b[0;34m\u001b[0m\u001b[0m\n\u001b[1;32m      6\u001b[0m \u001b[0;32mfrom\u001b[0m \u001b[0mctypes\u001b[0m \u001b[0;32mimport\u001b[0m \u001b[0;34m*\u001b[0m\u001b[0;34m\u001b[0m\u001b[0;34m\u001b[0m\u001b[0m\n",
            "\u001b[0;32m/usr/local/lib/python3.7/dist-packages/comtypes/__init__.py\u001b[0m in \u001b[0;36m<module>\u001b[0;34m()\u001b[0m\n\u001b[1;32m     21\u001b[0m \u001b[0;34m\u001b[0m\u001b[0m\n\u001b[1;32m     22\u001b[0m \u001b[0;32mfrom\u001b[0m \u001b[0mctypes\u001b[0m \u001b[0;32mimport\u001b[0m \u001b[0;34m*\u001b[0m\u001b[0;34m\u001b[0m\u001b[0;34m\u001b[0m\u001b[0m\n\u001b[0;32m---> 23\u001b[0;31m \u001b[0;32mfrom\u001b[0m \u001b[0m_ctypes\u001b[0m \u001b[0;32mimport\u001b[0m \u001b[0mCOMError\u001b[0m\u001b[0;34m\u001b[0m\u001b[0;34m\u001b[0m\u001b[0m\n\u001b[0m\u001b[1;32m     24\u001b[0m \u001b[0;32mfrom\u001b[0m \u001b[0mcomtypes\u001b[0m \u001b[0;32mimport\u001b[0m \u001b[0mpatcher\u001b[0m\u001b[0;34m\u001b[0m\u001b[0;34m\u001b[0m\u001b[0m\n\u001b[1;32m     25\u001b[0m \u001b[0;34m\u001b[0m\u001b[0m\n",
            "\u001b[0;31mImportError\u001b[0m: cannot import name 'COMError' from '_ctypes' (/usr/lib/python3.7/lib-dynload/_ctypes.cpython-37m-x86_64-linux-gnu.so)",
            "",
            "\u001b[0;31m---------------------------------------------------------------------------\u001b[0;32m\nNOTE: If your import is failing due to a missing package, you can\nmanually install dependencies using either !pip or !apt.\n\nTo view examples of installing some common dependencies, click the\n\"Open Examples\" button below.\n\u001b[0;31m---------------------------------------------------------------------------\u001b[0m\n"
          ],
          "errorDetails": {
            "actions": [
              {
                "action": "open_url",
                "actionText": "Open Examples",
                "url": "/notebooks/snippets/importing_libraries.ipynb"
              }
            ]
          }
        }
      ]
    },
    {
      "cell_type": "code",
      "source": [
        "for x in range(1,101):\n",
        "  print(x)\n",
        "  if(x%5==0):\n",
        "    continue \n",
        "    print(x)\n"
      ],
      "metadata": {
        "colab": {
          "base_uri": "https://localhost:8080/"
        },
        "id": "gMjT8M8eS9iG",
        "outputId": "c1159258-b1d5-4922-98bf-69a914869d35"
      },
      "execution_count": null,
      "outputs": [
        {
          "output_type": "stream",
          "name": "stdout",
          "text": [
            "1\n",
            "2\n",
            "3\n",
            "4\n",
            "5\n",
            "6\n",
            "7\n",
            "8\n",
            "9\n",
            "10\n",
            "11\n",
            "12\n",
            "13\n",
            "14\n",
            "15\n",
            "16\n",
            "17\n",
            "18\n",
            "19\n",
            "20\n",
            "21\n",
            "22\n",
            "23\n",
            "24\n",
            "25\n",
            "26\n",
            "27\n",
            "28\n",
            "29\n",
            "30\n",
            "31\n",
            "32\n",
            "33\n",
            "34\n",
            "35\n",
            "36\n",
            "37\n",
            "38\n",
            "39\n",
            "40\n",
            "41\n",
            "42\n",
            "43\n",
            "44\n",
            "45\n",
            "46\n",
            "47\n",
            "48\n",
            "49\n",
            "50\n",
            "51\n",
            "52\n",
            "53\n",
            "54\n",
            "55\n",
            "56\n",
            "57\n",
            "58\n",
            "59\n",
            "60\n",
            "61\n",
            "62\n",
            "63\n",
            "64\n",
            "65\n",
            "66\n",
            "67\n",
            "68\n",
            "69\n",
            "70\n",
            "71\n",
            "72\n",
            "73\n",
            "74\n",
            "75\n",
            "76\n",
            "77\n",
            "78\n",
            "79\n",
            "80\n",
            "81\n",
            "82\n",
            "83\n",
            "84\n",
            "85\n",
            "86\n",
            "87\n",
            "88\n",
            "89\n",
            "90\n",
            "91\n",
            "92\n",
            "93\n",
            "94\n",
            "95\n",
            "96\n",
            "97\n",
            "98\n",
            "99\n",
            "100\n"
          ]
        }
      ]
    },
    {
      "cell_type": "code",
      "source": [
        ""
      ],
      "metadata": {
        "id": "W6VCTAr3L1K9"
      },
      "execution_count": null,
      "outputs": []
    },
    {
      "cell_type": "code",
      "source": [
        "\n"
      ],
      "metadata": {
        "id": "A9XJLqF7FoBS"
      },
      "execution_count": null,
      "outputs": []
    },
    {
      "cell_type": "code",
      "source": [
        ""
      ],
      "metadata": {
        "id": "w7ZjuqH2Bmbm"
      },
      "execution_count": null,
      "outputs": []
    }
  ]
}