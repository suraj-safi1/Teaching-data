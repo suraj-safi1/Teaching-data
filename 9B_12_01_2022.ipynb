{
  "nbformat": 4,
  "nbformat_minor": 0,
  "metadata": {
    "colab": {
      "name": "9B_12_01_2022.ipynb",
      "provenance": [],
      "collapsed_sections": [],
      "authorship_tag": "ABX9TyNVD0zP0Rgj/fVoKdk0CHda",
      "include_colab_link": true
    },
    "kernelspec": {
      "name": "python3",
      "display_name": "Python 3"
    },
    "language_info": {
      "name": "python"
    }
  },
  "cells": [
    {
      "cell_type": "markdown",
      "metadata": {
        "id": "view-in-github",
        "colab_type": "text"
      },
      "source": [
        "<a href=\"https://colab.research.google.com/github/suraj-safi1/Teaching-data/blob/main/9B_12_01_2022.ipynb\" target=\"_parent\"><img src=\"https://colab.research.google.com/assets/colab-badge.svg\" alt=\"Open In Colab\"/></a>"
      ]
    },
    {
      "cell_type": "markdown",
      "source": [
        "string slicing"
      ],
      "metadata": {
        "id": "-mgkO4yeRc5N"
      }
    },
    {
      "cell_type": "code",
      "source": [
        "a= 'banbasa'\n",
        "print(a[-4:-1])\n",
        "a[-1]"
      ],
      "metadata": {
        "colab": {
          "base_uri": "https://localhost:8080/",
          "height": 53
        },
        "id": "fKgiApZqRgs9",
        "outputId": "99d42d47-fc15-466f-d0ef-ce71c906e031"
      },
      "execution_count": null,
      "outputs": [
        {
          "output_type": "stream",
          "name": "stdout",
          "text": [
            "bas\n"
          ]
        },
        {
          "output_type": "execute_result",
          "data": {
            "application/vnd.google.colaboratory.intrinsic+json": {
              "type": "string"
            },
            "text/plain": [
              "'a'"
            ]
          },
          "metadata": {},
          "execution_count": 7
        }
      ]
    },
    {
      "cell_type": "markdown",
      "source": [
        "negative index\n",
        " b a n b a s a\n",
        "-7-6-5-4-3-2-1\n",
        " 0 1 2 3 4 5 6 "
      ],
      "metadata": {
        "id": "CrT-0a3rR9wI"
      }
    },
    {
      "cell_type": "code",
      "source": [
        "print(a[1:6:2])"
      ],
      "metadata": {
        "colab": {
          "base_uri": "https://localhost:8080/"
        },
        "id": "N09mif5SSzgH",
        "outputId": "35d36a64-f261-429f-ec4f-0ee31a7a04fc"
      },
      "execution_count": null,
      "outputs": [
        {
          "output_type": "stream",
          "name": "stdout",
          "text": [
            "abs\n"
          ]
        }
      ]
    },
    {
      "cell_type": "code",
      "source": [
        "len(a)\n"
      ],
      "metadata": {
        "colab": {
          "base_uri": "https://localhost:8080/"
        },
        "id": "MAuZ59ASTlwH",
        "outputId": "f63d4456-eabd-42c5-d4dc-b8c079154924"
      },
      "execution_count": null,
      "outputs": [
        {
          "output_type": "execute_result",
          "data": {
            "text/plain": [
              "7"
            ]
          },
          "metadata": {},
          "execution_count": 12
        }
      ]
    },
    {
      "cell_type": "code",
      "source": [
        "for x in a:\n",
        "  print(x)\n"
      ],
      "metadata": {
        "colab": {
          "base_uri": "https://localhost:8080/"
        },
        "id": "YlvuAVYXTtGQ",
        "outputId": "e43ff237-e415-46c0-e724-d82e0cdb2d27"
      },
      "execution_count": null,
      "outputs": [
        {
          "output_type": "stream",
          "name": "stdout",
          "text": [
            "b\n",
            "a\n",
            "n\n",
            "b\n",
            "a\n",
            "s\n",
            "a\n"
          ]
        }
      ]
    },
    {
      "cell_type": "markdown",
      "source": [
        "APPOINTMENT LETTER"
      ],
      "metadata": {
        "id": "0IVC2s7wUIGt"
      }
    },
    {
      "cell_type": "code",
      "source": [
        "letter= ''' Dear <|name|> ,\n",
        "        you are selected for the post of <|post|>. And you will be the part of our organisation\n",
        "        from <|date|>. We are happy to have you as our team member.\n",
        "\n",
        "Regards\n",
        "CEO-TechSoft\n",
        "India\n",
        "        '''\n",
        "name= input(\"Enter Selected Candidate name : \")\n",
        "post= input(\"Enter Post :\")\n",
        "date=input(\"Enter date in DD-MM-YYYY :\")\n",
        "\n",
        "letter= letter.replace(\"<|name|>\",name)\n",
        "letter=letter.replace(\"<|post|>\",post)\n",
        "letter=letter.replace(\"<|date|>\",date)\n",
        "\n",
        "print(letter)"
      ],
      "metadata": {
        "colab": {
          "base_uri": "https://localhost:8080/"
        },
        "id": "2JiWgjNFUHA9",
        "outputId": "2bfbc323-6b1e-4cc7-e957-2df9275d3537"
      },
      "execution_count": null,
      "outputs": [
        {
          "output_type": "stream",
          "name": "stdout",
          "text": [
            "Enter Selected Candidate name : Suraj\n",
            "Enter Post :Data Scientist\n",
            "Enter date in DD-MM-YYYY :12-01-2022\n",
            " Dear Suraj ,\n",
            "        you are selected for the post of Data Scientist. And you will be the part of our organisation\n",
            "        from 12-01-2022. We are happy to have you as our team member.\n",
            "\n",
            "Regards\n",
            "CEO-TechSoft\n",
            "India\n",
            "        \n"
          ]
        }
      ]
    },
    {
      "cell_type": "markdown",
      "source": [
        "write a program with python using string replace funtion.\n",
        "- write notice to every student regarding attendence of their in online classes "
      ],
      "metadata": {
        "id": "SmbxarFFXcwb"
      }
    },
    {
      "cell_type": "code",
      "source": [
        ""
      ],
      "metadata": {
        "id": "Twu5TOIlT66S"
      },
      "execution_count": null,
      "outputs": []
    }
  ]
}