{
  "nbformat": 4,
  "nbformat_minor": 0,
  "metadata": {
    "colab": {
      "name": "9a-17-01-2022.ipynb",
      "provenance": [],
      "authorship_tag": "ABX9TyNM65POpmupZa6NdieRa/eP",
      "include_colab_link": true
    },
    "kernelspec": {
      "name": "python3",
      "display_name": "Python 3"
    },
    "language_info": {
      "name": "python"
    }
  },
  "cells": [
    {
      "cell_type": "markdown",
      "metadata": {
        "id": "view-in-github",
        "colab_type": "text"
      },
      "source": [
        "<a href=\"https://colab.research.google.com/github/suraj-safi1/Teaching-data/blob/main/9a_17_01_2022.ipynb\" target=\"_parent\"><img src=\"https://colab.research.google.com/assets/colab-badge.svg\" alt=\"Open In Colab\"/></a>"
      ]
    },
    {
      "cell_type": "code",
      "execution_count": null,
      "metadata": {
        "colab": {
          "base_uri": "https://localhost:8080/"
        },
        "id": "fGnKYUmZbZAo",
        "outputId": "d5c9a86b-8786-4ae9-99f9-24b6a7682956"
      },
      "outputs": [
        {
          "output_type": "stream",
          "name": "stdout",
          "text": [
            "10\n"
          ]
        }
      ],
      "source": [
        "a= '10'\n",
        "a\n",
        "print(a)\n"
      ]
    },
    {
      "cell_type": "code",
      "source": [
        "b=\"kamal\"\n",
        "b\n",
        "print(b)"
      ],
      "metadata": {
        "colab": {
          "base_uri": "https://localhost:8080/"
        },
        "id": "SWf7fpMdcR_6",
        "outputId": "02b22cb4-6045-4c92-dce3-735941ecf5f0"
      },
      "execution_count": null,
      "outputs": [
        {
          "output_type": "stream",
          "name": "stdout",
          "text": [
            "kamal\n"
          ]
        }
      ]
    },
    {
      "cell_type": "code",
      "source": [
        "print(a+b)"
      ],
      "metadata": {
        "colab": {
          "base_uri": "https://localhost:8080/"
        },
        "id": "7RMV3R-ic1C6",
        "outputId": "96f8d842-2f42-4b46-9980-ab0ddd74669e"
      },
      "execution_count": null,
      "outputs": [
        {
          "output_type": "stream",
          "name": "stdout",
          "text": [
            "10kamal\n"
          ]
        }
      ]
    },
    {
      "cell_type": "code",
      "source": [
        "a=10\n",
        "b=15\n",
        "print(a+b)"
      ],
      "metadata": {
        "colab": {
          "base_uri": "https://localhost:8080/"
        },
        "id": "TKCOBx2edeoa",
        "outputId": "39fcf1ca-274c-4eb9-fd20-03973950ec7e"
      },
      "execution_count": null,
      "outputs": [
        {
          "output_type": "stream",
          "name": "stdout",
          "text": [
            "25\n"
          ]
        }
      ]
    },
    {
      "cell_type": "code",
      "source": [
        "x=90\n",
        "y=200\n",
        "if x>y:\n",
        "  print('x is greater')\n",
        "else:\n",
        "  print('y is greater')"
      ],
      "metadata": {
        "colab": {
          "base_uri": "https://localhost:8080/"
        },
        "id": "gUyS2PqXeUX7",
        "outputId": "2f1585ab-8810-4e2d-8b96-03f16885834a"
      },
      "execution_count": null,
      "outputs": [
        {
          "output_type": "stream",
          "name": "stdout",
          "text": [
            "y is greater\n"
          ]
        }
      ]
    },
    {
      "cell_type": "code",
      "source": [
        "def reminder(a,b):\n",
        "  return a%b"
      ],
      "metadata": {
        "id": "88QoPuubgwfU"
      },
      "execution_count": null,
      "outputs": []
    },
    {
      "cell_type": "code",
      "source": [
        "reminder(6,5)"
      ],
      "metadata": {
        "colab": {
          "base_uri": "https://localhost:8080/"
        },
        "id": "ebs6NlRRg-N6",
        "outputId": "7ec039d7-055a-4892-dfc0-00ae2a692197"
      },
      "execution_count": null,
      "outputs": [
        {
          "output_type": "execute_result",
          "data": {
            "text/plain": [
              "1"
            ]
          },
          "metadata": {},
          "execution_count": 18
        }
      ]
    },
    {
      "cell_type": "code",
      "source": [
        "def mul(a,b):\n",
        "  return a*b"
      ],
      "metadata": {
        "id": "k7EEqt_ChRfJ"
      },
      "execution_count": null,
      "outputs": []
    },
    {
      "cell_type": "code",
      "source": [
        "mul(10,89)"
      ],
      "metadata": {
        "id": "JKeo5kv1hYcv",
        "outputId": "2c42e532-57a4-4cd3-e8e4-30fe492a65dd",
        "colab": {
          "base_uri": "https://localhost:8080/"
        }
      },
      "execution_count": null,
      "outputs": [
        {
          "output_type": "execute_result",
          "data": {
            "text/plain": [
              "890"
            ]
          },
          "metadata": {},
          "execution_count": 20
        }
      ]
    },
    {
      "cell_type": "code",
      "source": [
        ""
      ],
      "metadata": {
        "id": "YE6xwYeShasr"
      },
      "execution_count": null,
      "outputs": []
    }
  ]
}