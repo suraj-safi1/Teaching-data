{
  "nbformat": 4,
  "nbformat_minor": 0,
  "metadata": {
    "colab": {
      "name": "loop.ipynb",
      "provenance": [],
      "authorship_tag": "ABX9TyNb/je+STVVf2THc1FEugrn",
      "include_colab_link": true
    },
    "kernelspec": {
      "name": "python3",
      "display_name": "Python 3"
    },
    "language_info": {
      "name": "python"
    }
  },
  "cells": [
    {
      "cell_type": "markdown",
      "metadata": {
        "id": "view-in-github",
        "colab_type": "text"
      },
      "source": [
        "<a href=\"https://colab.research.google.com/github/suraj-safi1/Teaching-data/blob/main/loop.ipynb\" target=\"_parent\"><img src=\"https://colab.research.google.com/assets/colab-badge.svg\" alt=\"Open In Colab\"/></a>"
      ]
    },
    {
      "cell_type": "code",
      "execution_count": null,
      "metadata": {
        "colab": {
          "base_uri": "https://localhost:8080/"
        },
        "id": "_NjtR1gZUNt3",
        "outputId": "72607343-0b6f-4500-9079-fb441aa5081d"
      },
      "outputs": [
        {
          "output_type": "stream",
          "name": "stdout",
          "text": [
            "1\n",
            "2\n",
            "3\n",
            "4\n",
            "6\n",
            "7\n",
            "8\n",
            "9\n",
            "11\n",
            "12\n",
            "13\n",
            "14\n",
            "16\n",
            "17\n",
            "18\n",
            "19\n",
            "21\n",
            "22\n",
            "23\n",
            "24\n",
            "26\n",
            "27\n",
            "28\n",
            "29\n",
            "31\n",
            "32\n",
            "33\n",
            "34\n",
            "36\n",
            "37\n",
            "38\n",
            "39\n",
            "41\n",
            "42\n",
            "43\n",
            "44\n",
            "46\n",
            "47\n",
            "48\n",
            "49\n",
            "51\n",
            "52\n",
            "53\n",
            "54\n",
            "56\n",
            "57\n",
            "58\n",
            "59\n",
            "61\n",
            "62\n",
            "63\n",
            "64\n",
            "66\n",
            "67\n",
            "68\n",
            "69\n",
            "71\n",
            "72\n",
            "73\n",
            "74\n",
            "76\n",
            "77\n",
            "78\n",
            "79\n",
            "81\n",
            "82\n",
            "83\n",
            "84\n",
            "86\n",
            "87\n",
            "88\n",
            "89\n",
            "91\n",
            "92\n",
            "93\n",
            "94\n",
            "96\n",
            "97\n",
            "98\n",
            "99\n"
          ]
        }
      ],
      "source": [
        "for x in range(1,101):\n",
        "    if (x%5==0):\n",
        "        continue \n",
        "    print(x)"
      ]
    },
    {
      "cell_type": "code",
      "source": [
        "print(\"Welcome To Tejesh Enterprises\")\n",
        "\n",
        "a = str(input(\"enter Credit Persone name \"))\n",
        "b = str(input(\"enter job deatails \"))\n",
        "\n",
        "\n",
        "\n",
        "if( a in ['Joshi',' Anand',' India'] and b in[' tatkal print', 'bond']):\n",
        "    \n",
        "    print(\"Allowed Job But Wait Some Time\")\n",
        "    \n",
        "\n",
        "else:\n",
        "    print(\"Other JOb Not Allow\")"
      ],
      "metadata": {
        "colab": {
          "base_uri": "https://localhost:8080/"
        },
        "id": "SLlXcr4nYETW",
        "outputId": "7a21500e-a7e9-44dc-c2c0-f2e4726f9793"
      },
      "execution_count": null,
      "outputs": [
        {
          "output_type": "stream",
          "name": "stdout",
          "text": [
            "Welcome To Tejesh Enterprises\n",
            "enter Credit Persone name Anand\n",
            "enter job deatails bond\n",
            "Other JOb Not Allow\n"
          ]
        }
      ]
    },
    {
      "cell_type": "code",
      "source": [
        "# Python program to reverse a number using while loop\n",
        "\n",
        "num = 123456789\n",
        "rev = 0\n",
        "while(num > 0):\n",
        "    last_digit = num % 10\n",
        "    rev = rev * 10 + last_digit\n",
        "    num = num // 10\n",
        "\n",
        "# display result\n",
        "print('The reverse number is =', rev)"
      ],
      "metadata": {
        "colab": {
          "base_uri": "https://localhost:8080/"
        },
        "id": "gSLxFX8uZhgE",
        "outputId": "ee4e6b77-0c02-4cda-f723-6b9fa1805f13"
      },
      "execution_count": null,
      "outputs": [
        {
          "output_type": "stream",
          "name": "stdout",
          "text": [
            "The reverse number is = 987654321\n"
          ]
        }
      ]
    },
    {
      "cell_type": "code",
      "source": [
        "list=[1,2,3]\n",
        "for x in range(-1,-3):\n",
        "    "
      ],
      "metadata": {
        "colab": {
          "base_uri": "https://localhost:8080/",
          "height": 130
        },
        "id": "kDoqpaAzcZmf",
        "outputId": "0ada8013-8f79-40b0-fa0d-35523617c9b1"
      },
      "execution_count": null,
      "outputs": [
        {
          "output_type": "error",
          "ename": "SyntaxError",
          "evalue": "ignored",
          "traceback": [
            "\u001b[0;36m  File \u001b[0;32m\"<ipython-input-18-cc58f684f436>\"\u001b[0;36m, line \u001b[0;32m3\u001b[0m\n\u001b[0;31m    \u001b[0m\n\u001b[0m    ^\u001b[0m\n\u001b[0;31mSyntaxError\u001b[0m\u001b[0;31m:\u001b[0m unexpected EOF while parsing\n"
          ]
        }
      ]
    },
    {
      "cell_type": "code",
      "source": [
        "num = '105'\n",
        "\n",
        "# calculate reverse of number\n",
        "reverse = ''\n",
        "for i in range(len(num), 0, -1):\n",
        "   reverse += num[i-1]\n",
        "\n",
        "# print reverse of number\n",
        "print('The reverse number is =', reverse)"
      ],
      "metadata": {
        "colab": {
          "base_uri": "https://localhost:8080/"
        },
        "id": "Fbd3D_8adf6M",
        "outputId": "3ad377d8-f011-4b15-cc50-d4d68175a48d"
      },
      "execution_count": null,
      "outputs": [
        {
          "output_type": "stream",
          "name": "stdout",
          "text": [
            "The reverse number is = 501\n"
          ]
        }
      ]
    },
    {
      "cell_type": "code",
      "source": [
        "for x in range (0,31,2):\n",
        "  print(x)\n",
        "  "
      ],
      "metadata": {
        "colab": {
          "base_uri": "https://localhost:8080/"
        },
        "id": "CYXXrUx2fEHj",
        "outputId": "8551467d-8714-4af8-e89e-88be561f67c2"
      },
      "execution_count": null,
      "outputs": [
        {
          "output_type": "stream",
          "name": "stdout",
          "text": [
            "0\n",
            "2\n",
            "4\n",
            "6\n",
            "8\n",
            "10\n",
            "12\n",
            "14\n",
            "16\n",
            "18\n",
            "20\n",
            "22\n",
            "24\n",
            "26\n",
            "28\n",
            "30\n"
          ]
        }
      ]
    },
    {
      "cell_type": "code",
      "source": [
        "n = int(input(\"Enter a number: \"))\n",
        "fact = 1\n",
        "if (n >= 1):\n",
        "  for i in range (1, n+1):\n",
        "   fact = fact * i\n",
        "  print(\"Factorail of \",n , \" is : \",fact)"
      ],
      "metadata": {
        "colab": {
          "base_uri": "https://localhost:8080/"
        },
        "id": "CdHZNivufyLS",
        "outputId": "b49b9ac2-2633-408a-fb05-f98db91e9536"
      },
      "execution_count": null,
      "outputs": [
        {
          "output_type": "stream",
          "name": "stdout",
          "text": [
            "Enter a number: 5\n",
            "Factorail of  5  is :  120\n"
          ]
        }
      ]
    },
    {
      "cell_type": "code",
      "source": [
        "n = input(\"Enter a number: \")\n",
        "factorial = 1\n",
        "if int(n) >= 1:\n",
        "for i in range (1,int(n)+1):\n",
        "   factorial = factorial * i\n",
        "print(\"Factorail of \",n , \" is : \",factorial)"
      ],
      "metadata": {
        "colab": {
          "base_uri": "https://localhost:8080/",
          "height": 130
        },
        "id": "YgsZr5SAgPsu",
        "outputId": "f15ddec8-35e9-4545-9189-96062e0a7b8e"
      },
      "execution_count": null,
      "outputs": [
        {
          "output_type": "error",
          "ename": "IndentationError",
          "evalue": "ignored",
          "traceback": [
            "\u001b[0;36m  File \u001b[0;32m\"<ipython-input-28-45262483f043>\"\u001b[0;36m, line \u001b[0;32m4\u001b[0m\n\u001b[0;31m    for i in range (1,int(n)+1):\u001b[0m\n\u001b[0m      ^\u001b[0m\n\u001b[0;31mIndentationError\u001b[0m\u001b[0;31m:\u001b[0m expected an indented block\n"
          ]
        }
      ]
    }
  ]
}