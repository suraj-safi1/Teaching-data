{
  "nbformat": 4,
  "nbformat_minor": 0,
  "metadata": {
    "colab": {
      "name": "9A-13-01-2022 and 14_01_2022.ipynb",
      "provenance": [],
      "collapsed_sections": [],
      "authorship_tag": "ABX9TyPjFU91ZyKtXIIdJOCxvlsu",
      "include_colab_link": true
    },
    "kernelspec": {
      "name": "python3",
      "display_name": "Python 3"
    },
    "language_info": {
      "name": "python"
    }
  },
  "cells": [
    {
      "cell_type": "markdown",
      "metadata": {
        "id": "view-in-github",
        "colab_type": "text"
      },
      "source": [
        "<a href=\"https://colab.research.google.com/github/suraj-safi1/Teaching-data/blob/main/9A_13_01_2022_and_14_01_2022.ipynb\" target=\"_parent\"><img src=\"https://colab.research.google.com/assets/colab-badge.svg\" alt=\"Open In Colab\"/></a>"
      ]
    },
    {
      "cell_type": "markdown",
      "source": [
        "LIST"
      ],
      "metadata": {
        "id": "0ngSDFi11hrR"
      }
    },
    {
      "cell_type": "code",
      "source": [
        "list=['manali','naman','abhishek','adnan','arman','rihan','sapna','anjana','naveen']\n",
        "list"
      ],
      "metadata": {
        "colab": {
          "base_uri": "https://localhost:8080/"
        },
        "id": "awlIEM2x1key",
        "outputId": "49fd43a5-ba4b-4974-ecad-68b0dbda945c"
      },
      "execution_count": null,
      "outputs": [
        {
          "output_type": "execute_result",
          "data": {
            "text/plain": [
              "['manali',\n",
              " 'naman',\n",
              " 'abhishek',\n",
              " 'adnan',\n",
              " 'arman',\n",
              " 'rihan',\n",
              " 'sapna',\n",
              " 'anjana',\n",
              " 'naveen']"
            ]
          },
          "metadata": {},
          "execution_count": 48
        }
      ]
    },
    {
      "cell_type": "code",
      "source": [
        "print(list)"
      ],
      "metadata": {
        "colab": {
          "base_uri": "https://localhost:8080/"
        },
        "id": "MG7nUzIQ2CKX",
        "outputId": "64afa124-91e4-4b5b-c5f4-4fa6a3c4b660"
      },
      "execution_count": null,
      "outputs": [
        {
          "output_type": "stream",
          "name": "stdout",
          "text": [
            "['manali', 'naman', 'abhishek', 'adnan', 'arman', 'rihan', 'sapna', 'anjana', 'naveen']\n"
          ]
        }
      ]
    },
    {
      "cell_type": "markdown",
      "source": [
        "list *slicing*\n",
        "['manali', 'naman', 'abhishek', 'adnan', 'arman', 'rihan', \n",
        "   0         1         2          3       4         5\n",
        "   -9       -8      -7           -6         -5         -4   \n",
        "'sapna', 'anjana', 'naveen']\n",
        "6               7      8\n",
        "  -3          -2         -1\n",
        "\n",
        "  list[0:6] 6-> exclude(6-1=5)\n",
        "       include  \n"
      ],
      "metadata": {
        "id": "N52_d1q42Ire"
      }
    },
    {
      "cell_type": "code",
      "source": [
        "list[0:6]\n"
      ],
      "metadata": {
        "colab": {
          "base_uri": "https://localhost:8080/"
        },
        "id": "xfQlrSYC2KES",
        "outputId": "667444c0-c518-4e16-d689-20329229d771"
      },
      "execution_count": null,
      "outputs": [
        {
          "output_type": "execute_result",
          "data": {
            "text/plain": [
              "['manali', 'naman', 'abhishek', 'adnan', 'arman', 'rihan']"
            ]
          },
          "metadata": {},
          "execution_count": 50
        }
      ]
    },
    {
      "cell_type": "code",
      "source": [
        "list[0:7]"
      ],
      "metadata": {
        "colab": {
          "base_uri": "https://localhost:8080/"
        },
        "id": "lcN8NM0Q3Iux",
        "outputId": "e9b17711-7091-49fc-ffe2-b923cd3729f8"
      },
      "execution_count": null,
      "outputs": [
        {
          "output_type": "execute_result",
          "data": {
            "text/plain": [
              "['manali', 'naman', 'abhishek', 'adnan', 'arman', 'rihan', 'sapna']"
            ]
          },
          "metadata": {},
          "execution_count": 51
        }
      ]
    },
    {
      "cell_type": "code",
      "source": [
        "list[-1]"
      ],
      "metadata": {
        "colab": {
          "base_uri": "https://localhost:8080/",
          "height": 35
        },
        "id": "Sazr0W423NJq",
        "outputId": "433d6547-0692-4f8f-8fac-39ce01d010fa"
      },
      "execution_count": null,
      "outputs": [
        {
          "output_type": "execute_result",
          "data": {
            "application/vnd.google.colaboratory.intrinsic+json": {
              "type": "string"
            },
            "text/plain": [
              "'naveen'"
            ]
          },
          "metadata": {},
          "execution_count": 52
        }
      ]
    },
    {
      "cell_type": "code",
      "source": [
        "list[0:]"
      ],
      "metadata": {
        "colab": {
          "base_uri": "https://localhost:8080/"
        },
        "id": "u21cS8iG3SBw",
        "outputId": "5c45d2d1-d080-4c9f-e567-cd2933cc5059"
      },
      "execution_count": null,
      "outputs": [
        {
          "output_type": "execute_result",
          "data": {
            "text/plain": [
              "['manali',\n",
              " 'naman',\n",
              " 'abhishek',\n",
              " 'adnan',\n",
              " 'arman',\n",
              " 'rihan',\n",
              " 'sapna',\n",
              " 'anjana',\n",
              " 'naveen']"
            ]
          },
          "metadata": {},
          "execution_count": 53
        }
      ]
    },
    {
      "cell_type": "code",
      "source": [
        "list[0:9:2]"
      ],
      "metadata": {
        "colab": {
          "base_uri": "https://localhost:8080/"
        },
        "id": "aomy9qgy3Yy_",
        "outputId": "1adac064-6e27-433a-aa14-6c16332e9ffd"
      },
      "execution_count": null,
      "outputs": [
        {
          "output_type": "execute_result",
          "data": {
            "text/plain": [
              "['manali', 'abhishek', 'arman', 'sapna', 'naveen']"
            ]
          },
          "metadata": {},
          "execution_count": 54
        }
      ]
    },
    {
      "cell_type": "code",
      "source": [
        "list.sort()#it arrange the list in ascending order\n",
        "print(list)"
      ],
      "metadata": {
        "colab": {
          "base_uri": "https://localhost:8080/"
        },
        "id": "siB3m1CK3nnu",
        "outputId": "da1192f2-bf56-44c7-b25f-393d5a84cb06"
      },
      "execution_count": null,
      "outputs": [
        {
          "output_type": "stream",
          "name": "stdout",
          "text": [
            "['abhishek', 'adnan', 'anjana', 'arman', 'manali', 'naman', 'naveen', 'rihan', 'sapna']\n"
          ]
        }
      ]
    },
    {
      "cell_type": "code",
      "source": [
        "list.reverse()#it reverse the entire list\n",
        "print(list)"
      ],
      "metadata": {
        "colab": {
          "base_uri": "https://localhost:8080/"
        },
        "id": "v3ogrUK030Nz",
        "outputId": "51d2542c-9642-487a-d789-5d2b822d99e2"
      },
      "execution_count": null,
      "outputs": [
        {
          "output_type": "stream",
          "name": "stdout",
          "text": [
            "['sapna', 'rihan', 'naveen', 'naman', 'manali', 'arman', 'anjana', 'adnan', 'abhishek']\n"
          ]
        }
      ]
    },
    {
      "cell_type": "code",
      "source": [
        "list.sort()#it arrange the list in ascending order\n",
        "print(list)"
      ],
      "metadata": {
        "colab": {
          "base_uri": "https://localhost:8080/"
        },
        "id": "tQsibJ9h3_KH",
        "outputId": "24de477d-a9ec-44bf-d96a-4710780e1842"
      },
      "execution_count": null,
      "outputs": [
        {
          "output_type": "stream",
          "name": "stdout",
          "text": [
            "['abhishek', 'adnan', 'anjana', 'arman', 'manali', 'naman', 'naveen', 'rihan', 'sapna']\n"
          ]
        }
      ]
    },
    {
      "cell_type": "code",
      "source": [
        "list.append(\"Rahul\") #append is a function that is used to add item at last\n",
        "print(list)"
      ],
      "metadata": {
        "colab": {
          "base_uri": "https://localhost:8080/"
        },
        "id": "Nfc_O1ee4AEA",
        "outputId": "faf3f55f-7ca3-4d6a-944a-4b8ae793620b"
      },
      "execution_count": null,
      "outputs": [
        {
          "output_type": "stream",
          "name": "stdout",
          "text": [
            "['abhishek', 'adnan', 'anjana', 'arman', 'manali', 'naman', 'naveen', 'rihan', 'sapna', 'Rahul']\n"
          ]
        }
      ]
    },
    {
      "cell_type": "code",
      "source": [
        "list.insert(1,'navneet')#insert is a function to add item on particular index\n",
        "print(list)"
      ],
      "metadata": {
        "colab": {
          "base_uri": "https://localhost:8080/"
        },
        "id": "yNDpxOcH4P5l",
        "outputId": "f81dcde1-202b-4638-d7d1-b6ee72634eb6"
      },
      "execution_count": null,
      "outputs": [
        {
          "output_type": "stream",
          "name": "stdout",
          "text": [
            "['abhishek', 'navneet', 'adnan', 'anjana', 'arman', 'manali', 'naman', 'naveen', 'rihan', 'sapna', 'Rahul']\n"
          ]
        }
      ]
    },
    {
      "cell_type": "code",
      "source": [
        "list.pop()#it removes item from last\n",
        "print(list)"
      ],
      "metadata": {
        "colab": {
          "base_uri": "https://localhost:8080/"
        },
        "id": "NGZVJ3f14hY9",
        "outputId": "86307297-dc2f-429c-ca23-1ae627b9fdb0"
      },
      "execution_count": null,
      "outputs": [
        {
          "output_type": "stream",
          "name": "stdout",
          "text": [
            "['abhishek', 'navneet', 'adnan', 'anjana', 'arman', 'manali', 'naman', 'naveen', 'rihan', 'sapna']\n"
          ]
        }
      ]
    },
    {
      "cell_type": "code",
      "source": [
        "list.pop(1)#it removes particular item from that index\n",
        "print(list)"
      ],
      "metadata": {
        "colab": {
          "base_uri": "https://localhost:8080/"
        },
        "id": "NUWlhj9G4sqb",
        "outputId": "178a296e-cb08-4f18-d7fa-6ba6fd47a451"
      },
      "execution_count": null,
      "outputs": [
        {
          "output_type": "stream",
          "name": "stdout",
          "text": [
            "['abhishek', 'adnan', 'anjana', 'arman', 'manali', 'naman', 'naveen', 'rihan', 'sapna']\n"
          ]
        }
      ]
    },
    {
      "cell_type": "markdown",
      "source": [
        "Tuple-no change"
      ],
      "metadata": {
        "id": "aXJHm_V_477k"
      }
    },
    {
      "cell_type": "code",
      "source": [
        "t=(1,2,3,4,5,6)\n",
        "t[0]=7"
      ],
      "metadata": {
        "colab": {
          "base_uri": "https://localhost:8080/",
          "height": 182
        },
        "id": "y7wCS2AI46yy",
        "outputId": "7fb23f5c-992e-4cdf-f267-d539f3db3915"
      },
      "execution_count": null,
      "outputs": [
        {
          "output_type": "error",
          "ename": "TypeError",
          "evalue": "ignored",
          "traceback": [
            "\u001b[0;31m---------------------------------------------------------------------------\u001b[0m",
            "\u001b[0;31mTypeError\u001b[0m                                 Traceback (most recent call last)",
            "\u001b[0;32m<ipython-input-62-447f77114d70>\u001b[0m in \u001b[0;36m<module>\u001b[0;34m()\u001b[0m\n\u001b[1;32m      1\u001b[0m \u001b[0mt\u001b[0m\u001b[0;34m=\u001b[0m\u001b[0;34m(\u001b[0m\u001b[0;36m1\u001b[0m\u001b[0;34m,\u001b[0m\u001b[0;36m2\u001b[0m\u001b[0;34m,\u001b[0m\u001b[0;36m3\u001b[0m\u001b[0;34m,\u001b[0m\u001b[0;36m4\u001b[0m\u001b[0;34m,\u001b[0m\u001b[0;36m5\u001b[0m\u001b[0;34m,\u001b[0m\u001b[0;36m6\u001b[0m\u001b[0;34m)\u001b[0m\u001b[0;34m\u001b[0m\u001b[0;34m\u001b[0m\u001b[0m\n\u001b[0;32m----> 2\u001b[0;31m \u001b[0mt\u001b[0m\u001b[0;34m[\u001b[0m\u001b[0;36m0\u001b[0m\u001b[0;34m]\u001b[0m\u001b[0;34m=\u001b[0m\u001b[0;36m7\u001b[0m\u001b[0;34m\u001b[0m\u001b[0;34m\u001b[0m\u001b[0m\n\u001b[0m",
            "\u001b[0;31mTypeError\u001b[0m: 'tuple' object does not support item assignment"
          ]
        }
      ]
    },
    {
      "cell_type": "code",
      "source": [
        "print(t)"
      ],
      "metadata": {
        "id": "H5ScLUpc5Jzu"
      },
      "execution_count": null,
      "outputs": []
    },
    {
      "cell_type": "markdown",
      "source": [
        "Dictionay - contains diffrent types of data\n",
        "keys-value\n",
        "append- meaning"
      ],
      "metadata": {
        "id": "sQYKSNPR5S8I"
      }
    },
    {
      "cell_type": "code",
      "source": [
        "dict1={\"Name\":['abhishek', 'adnan', 'anjana', 'arman'],\n",
        "\"percent\":[55,60,70,56],\n",
        "\"Fav_Sub\":['maths','english','science','hindi']}"
      ],
      "metadata": {
        "id": "w7W_O1_V5Qbk"
      },
      "execution_count": null,
      "outputs": []
    },
    {
      "cell_type": "code",
      "source": [
        "print(dict1)"
      ],
      "metadata": {
        "colab": {
          "base_uri": "https://localhost:8080/"
        },
        "id": "jr0PRjt56Ztf",
        "outputId": "0ea00be0-5768-4107-c893-f474d2f6b1d3"
      },
      "execution_count": null,
      "outputs": [
        {
          "output_type": "stream",
          "name": "stdout",
          "text": [
            "{'Name': \"['abhishek', 'adnan', 'anjana', 'arman']\", 'percent': '[55,60,70,56]', 'Fav_Sub': \"['maths','english','science','hindi']\"}\n"
          ]
        }
      ]
    },
    {
      "cell_type": "code",
      "source": [
        "print(dict1.keys())"
      ],
      "metadata": {
        "colab": {
          "base_uri": "https://localhost:8080/"
        },
        "id": "CL2tNeUZ6foV",
        "outputId": "4e77b3cb-30e0-4702-eb8b-00173014d204"
      },
      "execution_count": null,
      "outputs": [
        {
          "output_type": "stream",
          "name": "stdout",
          "text": [
            "dict_keys(['Name', 'percent', 'Fav_Sub'])\n"
          ]
        }
      ]
    },
    {
      "cell_type": "code",
      "source": [
        "print(dict1.values())"
      ],
      "metadata": {
        "colab": {
          "base_uri": "https://localhost:8080/"
        },
        "id": "xpJ9ZcVE6n8z",
        "outputId": "bcc0f1a3-cda9-44ac-fc72-029268dcc5c4"
      },
      "execution_count": null,
      "outputs": [
        {
          "output_type": "stream",
          "name": "stdout",
          "text": [
            "dict_values([\"['abhishek', 'adnan', 'anjana', 'arman']\", '[55,60,70,56]', \"['maths','english','science','hindi']\"])\n"
          ]
        }
      ]
    },
    {
      "cell_type": "code",
      "source": [
        "pip install pandas"
      ],
      "metadata": {
        "colab": {
          "base_uri": "https://localhost:8080/"
        },
        "id": "W9-yrEht6xe7",
        "outputId": "ff5c75f9-fa9d-43f4-cf63-3d224c1f923d"
      },
      "execution_count": null,
      "outputs": [
        {
          "output_type": "stream",
          "name": "stdout",
          "text": [
            "Requirement already satisfied: pandas in /usr/local/lib/python3.7/dist-packages (1.1.5)\n",
            "Requirement already satisfied: pytz>=2017.2 in /usr/local/lib/python3.7/dist-packages (from pandas) (2018.9)\n",
            "Requirement already satisfied: numpy>=1.15.4 in /usr/local/lib/python3.7/dist-packages (from pandas) (1.19.5)\n",
            "Requirement already satisfied: python-dateutil>=2.7.3 in /usr/local/lib/python3.7/dist-packages (from pandas) (2.8.2)\n",
            "Requirement already satisfied: six>=1.5 in /usr/local/lib/python3.7/dist-packages (from python-dateutil>=2.7.3->pandas) (1.15.0)\n"
          ]
        }
      ]
    },
    {
      "cell_type": "code",
      "source": [
        "import pandas as pd"
      ],
      "metadata": {
        "id": "VffqOgEw-uQn"
      },
      "execution_count": null,
      "outputs": []
    },
    {
      "cell_type": "code",
      "source": [
        "dict = { \"name\":['anu', 'ananya', 'anshika', 'kareena', 'nitin', 'priya', 'sumit', 'vineet'],\n",
        "\"percent\":[60,65,55,55,45,56,48,69],\n",
        "\"hobbies\":['singing','online game','reading','playing','reading','cricket','writting','reading']\n",
        "}"
      ],
      "metadata": {
        "id": "ZV_EvdA3AWRm"
      },
      "execution_count": null,
      "outputs": []
    },
    {
      "cell_type": "code",
      "source": [
        "df=pd.DataFrame(dict)\n"
      ],
      "metadata": {
        "id": "7GkqV9miCY1y"
      },
      "execution_count": null,
      "outputs": []
    },
    {
      "cell_type": "code",
      "source": [
        "df.head() # it is used to fedtch 5 top rows of data frame"
      ],
      "metadata": {
        "colab": {
          "base_uri": "https://localhost:8080/",
          "height": 206
        },
        "id": "UUyNu9gSDF8v",
        "outputId": "815cc246-b4a5-4023-9916-763e51b6d4a0"
      },
      "execution_count": null,
      "outputs": [
        {
          "output_type": "execute_result",
          "data": {
            "text/html": [
              "\n",
              "  <div id=\"df-5a409923-fb11-438c-9fdd-1455dbf67f6a\">\n",
              "    <div class=\"colab-df-container\">\n",
              "      <div>\n",
              "<style scoped>\n",
              "    .dataframe tbody tr th:only-of-type {\n",
              "        vertical-align: middle;\n",
              "    }\n",
              "\n",
              "    .dataframe tbody tr th {\n",
              "        vertical-align: top;\n",
              "    }\n",
              "\n",
              "    .dataframe thead th {\n",
              "        text-align: right;\n",
              "    }\n",
              "</style>\n",
              "<table border=\"1\" class=\"dataframe\">\n",
              "  <thead>\n",
              "    <tr style=\"text-align: right;\">\n",
              "      <th></th>\n",
              "      <th>name</th>\n",
              "      <th>percent</th>\n",
              "      <th>hobbies</th>\n",
              "    </tr>\n",
              "  </thead>\n",
              "  <tbody>\n",
              "    <tr>\n",
              "      <th>0</th>\n",
              "      <td>anu</td>\n",
              "      <td>60</td>\n",
              "      <td>singing</td>\n",
              "    </tr>\n",
              "    <tr>\n",
              "      <th>1</th>\n",
              "      <td>ananya</td>\n",
              "      <td>65</td>\n",
              "      <td>online game</td>\n",
              "    </tr>\n",
              "    <tr>\n",
              "      <th>2</th>\n",
              "      <td>anshika</td>\n",
              "      <td>55</td>\n",
              "      <td>reading</td>\n",
              "    </tr>\n",
              "    <tr>\n",
              "      <th>3</th>\n",
              "      <td>kareena</td>\n",
              "      <td>55</td>\n",
              "      <td>playing</td>\n",
              "    </tr>\n",
              "    <tr>\n",
              "      <th>4</th>\n",
              "      <td>nitin</td>\n",
              "      <td>45</td>\n",
              "      <td>reading</td>\n",
              "    </tr>\n",
              "  </tbody>\n",
              "</table>\n",
              "</div>\n",
              "      <button class=\"colab-df-convert\" onclick=\"convertToInteractive('df-5a409923-fb11-438c-9fdd-1455dbf67f6a')\"\n",
              "              title=\"Convert this dataframe to an interactive table.\"\n",
              "              style=\"display:none;\">\n",
              "        \n",
              "  <svg xmlns=\"http://www.w3.org/2000/svg\" height=\"24px\"viewBox=\"0 0 24 24\"\n",
              "       width=\"24px\">\n",
              "    <path d=\"M0 0h24v24H0V0z\" fill=\"none\"/>\n",
              "    <path d=\"M18.56 5.44l.94 2.06.94-2.06 2.06-.94-2.06-.94-.94-2.06-.94 2.06-2.06.94zm-11 1L8.5 8.5l.94-2.06 2.06-.94-2.06-.94L8.5 2.5l-.94 2.06-2.06.94zm10 10l.94 2.06.94-2.06 2.06-.94-2.06-.94-.94-2.06-.94 2.06-2.06.94z\"/><path d=\"M17.41 7.96l-1.37-1.37c-.4-.4-.92-.59-1.43-.59-.52 0-1.04.2-1.43.59L10.3 9.45l-7.72 7.72c-.78.78-.78 2.05 0 2.83L4 21.41c.39.39.9.59 1.41.59.51 0 1.02-.2 1.41-.59l7.78-7.78 2.81-2.81c.8-.78.8-2.07 0-2.86zM5.41 20L4 18.59l7.72-7.72 1.47 1.35L5.41 20z\"/>\n",
              "  </svg>\n",
              "      </button>\n",
              "      \n",
              "  <style>\n",
              "    .colab-df-container {\n",
              "      display:flex;\n",
              "      flex-wrap:wrap;\n",
              "      gap: 12px;\n",
              "    }\n",
              "\n",
              "    .colab-df-convert {\n",
              "      background-color: #E8F0FE;\n",
              "      border: none;\n",
              "      border-radius: 50%;\n",
              "      cursor: pointer;\n",
              "      display: none;\n",
              "      fill: #1967D2;\n",
              "      height: 32px;\n",
              "      padding: 0 0 0 0;\n",
              "      width: 32px;\n",
              "    }\n",
              "\n",
              "    .colab-df-convert:hover {\n",
              "      background-color: #E2EBFA;\n",
              "      box-shadow: 0px 1px 2px rgba(60, 64, 67, 0.3), 0px 1px 3px 1px rgba(60, 64, 67, 0.15);\n",
              "      fill: #174EA6;\n",
              "    }\n",
              "\n",
              "    [theme=dark] .colab-df-convert {\n",
              "      background-color: #3B4455;\n",
              "      fill: #D2E3FC;\n",
              "    }\n",
              "\n",
              "    [theme=dark] .colab-df-convert:hover {\n",
              "      background-color: #434B5C;\n",
              "      box-shadow: 0px 1px 3px 1px rgba(0, 0, 0, 0.15);\n",
              "      filter: drop-shadow(0px 1px 2px rgba(0, 0, 0, 0.3));\n",
              "      fill: #FFFFFF;\n",
              "    }\n",
              "  </style>\n",
              "\n",
              "      <script>\n",
              "        const buttonEl =\n",
              "          document.querySelector('#df-5a409923-fb11-438c-9fdd-1455dbf67f6a button.colab-df-convert');\n",
              "        buttonEl.style.display =\n",
              "          google.colab.kernel.accessAllowed ? 'block' : 'none';\n",
              "\n",
              "        async function convertToInteractive(key) {\n",
              "          const element = document.querySelector('#df-5a409923-fb11-438c-9fdd-1455dbf67f6a');\n",
              "          const dataTable =\n",
              "            await google.colab.kernel.invokeFunction('convertToInteractive',\n",
              "                                                     [key], {});\n",
              "          if (!dataTable) return;\n",
              "\n",
              "          const docLinkHtml = 'Like what you see? Visit the ' +\n",
              "            '<a target=\"_blank\" href=https://colab.research.google.com/notebooks/data_table.ipynb>data table notebook</a>'\n",
              "            + ' to learn more about interactive tables.';\n",
              "          element.innerHTML = '';\n",
              "          dataTable['output_type'] = 'display_data';\n",
              "          await google.colab.output.renderOutput(dataTable, element);\n",
              "          const docLink = document.createElement('div');\n",
              "          docLink.innerHTML = docLinkHtml;\n",
              "          element.appendChild(docLink);\n",
              "        }\n",
              "      </script>\n",
              "    </div>\n",
              "  </div>\n",
              "  "
            ],
            "text/plain": [
              "      name  percent      hobbies\n",
              "0      anu       60      singing\n",
              "1   ananya       65  online game\n",
              "2  anshika       55      reading\n",
              "3  kareena       55      playing\n",
              "4    nitin       45      reading"
            ]
          },
          "metadata": {},
          "execution_count": 6
        }
      ]
    },
    {
      "cell_type": "code",
      "source": [
        "df.tail() # it is used to fedtch 5 bottom rows of data frame"
      ],
      "metadata": {
        "colab": {
          "base_uri": "https://localhost:8080/",
          "height": 206
        },
        "id": "9ogb5eiKDLdk",
        "outputId": "9da69ae2-4353-4c57-8217-0d70ee619e82"
      },
      "execution_count": null,
      "outputs": [
        {
          "output_type": "execute_result",
          "data": {
            "text/html": [
              "\n",
              "  <div id=\"df-05c5d5dc-9ed6-4bbd-87be-92361a3c57a0\">\n",
              "    <div class=\"colab-df-container\">\n",
              "      <div>\n",
              "<style scoped>\n",
              "    .dataframe tbody tr th:only-of-type {\n",
              "        vertical-align: middle;\n",
              "    }\n",
              "\n",
              "    .dataframe tbody tr th {\n",
              "        vertical-align: top;\n",
              "    }\n",
              "\n",
              "    .dataframe thead th {\n",
              "        text-align: right;\n",
              "    }\n",
              "</style>\n",
              "<table border=\"1\" class=\"dataframe\">\n",
              "  <thead>\n",
              "    <tr style=\"text-align: right;\">\n",
              "      <th></th>\n",
              "      <th>name</th>\n",
              "      <th>percent</th>\n",
              "      <th>hobbies</th>\n",
              "    </tr>\n",
              "  </thead>\n",
              "  <tbody>\n",
              "    <tr>\n",
              "      <th>3</th>\n",
              "      <td>kareena</td>\n",
              "      <td>55</td>\n",
              "      <td>playing</td>\n",
              "    </tr>\n",
              "    <tr>\n",
              "      <th>4</th>\n",
              "      <td>nitin</td>\n",
              "      <td>45</td>\n",
              "      <td>reading</td>\n",
              "    </tr>\n",
              "    <tr>\n",
              "      <th>5</th>\n",
              "      <td>priya</td>\n",
              "      <td>56</td>\n",
              "      <td>cricket</td>\n",
              "    </tr>\n",
              "    <tr>\n",
              "      <th>6</th>\n",
              "      <td>sumit</td>\n",
              "      <td>48</td>\n",
              "      <td>writting</td>\n",
              "    </tr>\n",
              "    <tr>\n",
              "      <th>7</th>\n",
              "      <td>vineet</td>\n",
              "      <td>69</td>\n",
              "      <td>reading</td>\n",
              "    </tr>\n",
              "  </tbody>\n",
              "</table>\n",
              "</div>\n",
              "      <button class=\"colab-df-convert\" onclick=\"convertToInteractive('df-05c5d5dc-9ed6-4bbd-87be-92361a3c57a0')\"\n",
              "              title=\"Convert this dataframe to an interactive table.\"\n",
              "              style=\"display:none;\">\n",
              "        \n",
              "  <svg xmlns=\"http://www.w3.org/2000/svg\" height=\"24px\"viewBox=\"0 0 24 24\"\n",
              "       width=\"24px\">\n",
              "    <path d=\"M0 0h24v24H0V0z\" fill=\"none\"/>\n",
              "    <path d=\"M18.56 5.44l.94 2.06.94-2.06 2.06-.94-2.06-.94-.94-2.06-.94 2.06-2.06.94zm-11 1L8.5 8.5l.94-2.06 2.06-.94-2.06-.94L8.5 2.5l-.94 2.06-2.06.94zm10 10l.94 2.06.94-2.06 2.06-.94-2.06-.94-.94-2.06-.94 2.06-2.06.94z\"/><path d=\"M17.41 7.96l-1.37-1.37c-.4-.4-.92-.59-1.43-.59-.52 0-1.04.2-1.43.59L10.3 9.45l-7.72 7.72c-.78.78-.78 2.05 0 2.83L4 21.41c.39.39.9.59 1.41.59.51 0 1.02-.2 1.41-.59l7.78-7.78 2.81-2.81c.8-.78.8-2.07 0-2.86zM5.41 20L4 18.59l7.72-7.72 1.47 1.35L5.41 20z\"/>\n",
              "  </svg>\n",
              "      </button>\n",
              "      \n",
              "  <style>\n",
              "    .colab-df-container {\n",
              "      display:flex;\n",
              "      flex-wrap:wrap;\n",
              "      gap: 12px;\n",
              "    }\n",
              "\n",
              "    .colab-df-convert {\n",
              "      background-color: #E8F0FE;\n",
              "      border: none;\n",
              "      border-radius: 50%;\n",
              "      cursor: pointer;\n",
              "      display: none;\n",
              "      fill: #1967D2;\n",
              "      height: 32px;\n",
              "      padding: 0 0 0 0;\n",
              "      width: 32px;\n",
              "    }\n",
              "\n",
              "    .colab-df-convert:hover {\n",
              "      background-color: #E2EBFA;\n",
              "      box-shadow: 0px 1px 2px rgba(60, 64, 67, 0.3), 0px 1px 3px 1px rgba(60, 64, 67, 0.15);\n",
              "      fill: #174EA6;\n",
              "    }\n",
              "\n",
              "    [theme=dark] .colab-df-convert {\n",
              "      background-color: #3B4455;\n",
              "      fill: #D2E3FC;\n",
              "    }\n",
              "\n",
              "    [theme=dark] .colab-df-convert:hover {\n",
              "      background-color: #434B5C;\n",
              "      box-shadow: 0px 1px 3px 1px rgba(0, 0, 0, 0.15);\n",
              "      filter: drop-shadow(0px 1px 2px rgba(0, 0, 0, 0.3));\n",
              "      fill: #FFFFFF;\n",
              "    }\n",
              "  </style>\n",
              "\n",
              "      <script>\n",
              "        const buttonEl =\n",
              "          document.querySelector('#df-05c5d5dc-9ed6-4bbd-87be-92361a3c57a0 button.colab-df-convert');\n",
              "        buttonEl.style.display =\n",
              "          google.colab.kernel.accessAllowed ? 'block' : 'none';\n",
              "\n",
              "        async function convertToInteractive(key) {\n",
              "          const element = document.querySelector('#df-05c5d5dc-9ed6-4bbd-87be-92361a3c57a0');\n",
              "          const dataTable =\n",
              "            await google.colab.kernel.invokeFunction('convertToInteractive',\n",
              "                                                     [key], {});\n",
              "          if (!dataTable) return;\n",
              "\n",
              "          const docLinkHtml = 'Like what you see? Visit the ' +\n",
              "            '<a target=\"_blank\" href=https://colab.research.google.com/notebooks/data_table.ipynb>data table notebook</a>'\n",
              "            + ' to learn more about interactive tables.';\n",
              "          element.innerHTML = '';\n",
              "          dataTable['output_type'] = 'display_data';\n",
              "          await google.colab.output.renderOutput(dataTable, element);\n",
              "          const docLink = document.createElement('div');\n",
              "          docLink.innerHTML = docLinkHtml;\n",
              "          element.appendChild(docLink);\n",
              "        }\n",
              "      </script>\n",
              "    </div>\n",
              "  </div>\n",
              "  "
            ],
            "text/plain": [
              "      name  percent   hobbies\n",
              "3  kareena       55   playing\n",
              "4    nitin       45   reading\n",
              "5    priya       56   cricket\n",
              "6    sumit       48  writting\n",
              "7   vineet       69   reading"
            ]
          },
          "metadata": {},
          "execution_count": 8
        }
      ]
    },
    {
      "cell_type": "code",
      "source": [
        "df.head(7)"
      ],
      "metadata": {
        "colab": {
          "base_uri": "https://localhost:8080/",
          "height": 269
        },
        "id": "SNK4_u2EDPp1",
        "outputId": "d9f59180-7eee-41a3-c406-16d87ed48e4b"
      },
      "execution_count": null,
      "outputs": [
        {
          "output_type": "execute_result",
          "data": {
            "text/html": [
              "\n",
              "  <div id=\"df-d3d9187d-a5a3-45fb-94b4-702142cd53f3\">\n",
              "    <div class=\"colab-df-container\">\n",
              "      <div>\n",
              "<style scoped>\n",
              "    .dataframe tbody tr th:only-of-type {\n",
              "        vertical-align: middle;\n",
              "    }\n",
              "\n",
              "    .dataframe tbody tr th {\n",
              "        vertical-align: top;\n",
              "    }\n",
              "\n",
              "    .dataframe thead th {\n",
              "        text-align: right;\n",
              "    }\n",
              "</style>\n",
              "<table border=\"1\" class=\"dataframe\">\n",
              "  <thead>\n",
              "    <tr style=\"text-align: right;\">\n",
              "      <th></th>\n",
              "      <th>name</th>\n",
              "      <th>percent</th>\n",
              "      <th>hobbies</th>\n",
              "    </tr>\n",
              "  </thead>\n",
              "  <tbody>\n",
              "    <tr>\n",
              "      <th>0</th>\n",
              "      <td>anu</td>\n",
              "      <td>60</td>\n",
              "      <td>singing</td>\n",
              "    </tr>\n",
              "    <tr>\n",
              "      <th>1</th>\n",
              "      <td>ananya</td>\n",
              "      <td>65</td>\n",
              "      <td>online game</td>\n",
              "    </tr>\n",
              "    <tr>\n",
              "      <th>2</th>\n",
              "      <td>anshika</td>\n",
              "      <td>55</td>\n",
              "      <td>reading</td>\n",
              "    </tr>\n",
              "    <tr>\n",
              "      <th>3</th>\n",
              "      <td>kareena</td>\n",
              "      <td>55</td>\n",
              "      <td>playing</td>\n",
              "    </tr>\n",
              "    <tr>\n",
              "      <th>4</th>\n",
              "      <td>nitin</td>\n",
              "      <td>45</td>\n",
              "      <td>reading</td>\n",
              "    </tr>\n",
              "    <tr>\n",
              "      <th>5</th>\n",
              "      <td>priya</td>\n",
              "      <td>56</td>\n",
              "      <td>cricket</td>\n",
              "    </tr>\n",
              "    <tr>\n",
              "      <th>6</th>\n",
              "      <td>sumit</td>\n",
              "      <td>48</td>\n",
              "      <td>writting</td>\n",
              "    </tr>\n",
              "  </tbody>\n",
              "</table>\n",
              "</div>\n",
              "      <button class=\"colab-df-convert\" onclick=\"convertToInteractive('df-d3d9187d-a5a3-45fb-94b4-702142cd53f3')\"\n",
              "              title=\"Convert this dataframe to an interactive table.\"\n",
              "              style=\"display:none;\">\n",
              "        \n",
              "  <svg xmlns=\"http://www.w3.org/2000/svg\" height=\"24px\"viewBox=\"0 0 24 24\"\n",
              "       width=\"24px\">\n",
              "    <path d=\"M0 0h24v24H0V0z\" fill=\"none\"/>\n",
              "    <path d=\"M18.56 5.44l.94 2.06.94-2.06 2.06-.94-2.06-.94-.94-2.06-.94 2.06-2.06.94zm-11 1L8.5 8.5l.94-2.06 2.06-.94-2.06-.94L8.5 2.5l-.94 2.06-2.06.94zm10 10l.94 2.06.94-2.06 2.06-.94-2.06-.94-.94-2.06-.94 2.06-2.06.94z\"/><path d=\"M17.41 7.96l-1.37-1.37c-.4-.4-.92-.59-1.43-.59-.52 0-1.04.2-1.43.59L10.3 9.45l-7.72 7.72c-.78.78-.78 2.05 0 2.83L4 21.41c.39.39.9.59 1.41.59.51 0 1.02-.2 1.41-.59l7.78-7.78 2.81-2.81c.8-.78.8-2.07 0-2.86zM5.41 20L4 18.59l7.72-7.72 1.47 1.35L5.41 20z\"/>\n",
              "  </svg>\n",
              "      </button>\n",
              "      \n",
              "  <style>\n",
              "    .colab-df-container {\n",
              "      display:flex;\n",
              "      flex-wrap:wrap;\n",
              "      gap: 12px;\n",
              "    }\n",
              "\n",
              "    .colab-df-convert {\n",
              "      background-color: #E8F0FE;\n",
              "      border: none;\n",
              "      border-radius: 50%;\n",
              "      cursor: pointer;\n",
              "      display: none;\n",
              "      fill: #1967D2;\n",
              "      height: 32px;\n",
              "      padding: 0 0 0 0;\n",
              "      width: 32px;\n",
              "    }\n",
              "\n",
              "    .colab-df-convert:hover {\n",
              "      background-color: #E2EBFA;\n",
              "      box-shadow: 0px 1px 2px rgba(60, 64, 67, 0.3), 0px 1px 3px 1px rgba(60, 64, 67, 0.15);\n",
              "      fill: #174EA6;\n",
              "    }\n",
              "\n",
              "    [theme=dark] .colab-df-convert {\n",
              "      background-color: #3B4455;\n",
              "      fill: #D2E3FC;\n",
              "    }\n",
              "\n",
              "    [theme=dark] .colab-df-convert:hover {\n",
              "      background-color: #434B5C;\n",
              "      box-shadow: 0px 1px 3px 1px rgba(0, 0, 0, 0.15);\n",
              "      filter: drop-shadow(0px 1px 2px rgba(0, 0, 0, 0.3));\n",
              "      fill: #FFFFFF;\n",
              "    }\n",
              "  </style>\n",
              "\n",
              "      <script>\n",
              "        const buttonEl =\n",
              "          document.querySelector('#df-d3d9187d-a5a3-45fb-94b4-702142cd53f3 button.colab-df-convert');\n",
              "        buttonEl.style.display =\n",
              "          google.colab.kernel.accessAllowed ? 'block' : 'none';\n",
              "\n",
              "        async function convertToInteractive(key) {\n",
              "          const element = document.querySelector('#df-d3d9187d-a5a3-45fb-94b4-702142cd53f3');\n",
              "          const dataTable =\n",
              "            await google.colab.kernel.invokeFunction('convertToInteractive',\n",
              "                                                     [key], {});\n",
              "          if (!dataTable) return;\n",
              "\n",
              "          const docLinkHtml = 'Like what you see? Visit the ' +\n",
              "            '<a target=\"_blank\" href=https://colab.research.google.com/notebooks/data_table.ipynb>data table notebook</a>'\n",
              "            + ' to learn more about interactive tables.';\n",
              "          element.innerHTML = '';\n",
              "          dataTable['output_type'] = 'display_data';\n",
              "          await google.colab.output.renderOutput(dataTable, element);\n",
              "          const docLink = document.createElement('div');\n",
              "          docLink.innerHTML = docLinkHtml;\n",
              "          element.appendChild(docLink);\n",
              "        }\n",
              "      </script>\n",
              "    </div>\n",
              "  </div>\n",
              "  "
            ],
            "text/plain": [
              "      name  percent      hobbies\n",
              "0      anu       60      singing\n",
              "1   ananya       65  online game\n",
              "2  anshika       55      reading\n",
              "3  kareena       55      playing\n",
              "4    nitin       45      reading\n",
              "5    priya       56      cricket\n",
              "6    sumit       48     writting"
            ]
          },
          "metadata": {},
          "execution_count": 9
        }
      ]
    },
    {
      "cell_type": "code",
      "source": [
        "x=1\n",
        "while x<=100:\n",
        "  if (x%2!=0):\n",
        "    print(f'{x} is odd')\n",
        "  x=x+1"
      ],
      "metadata": {
        "colab": {
          "base_uri": "https://localhost:8080/"
        },
        "id": "GvQ3uUIk_yKG",
        "outputId": "e9dd21e7-005d-48f8-bca4-5be7cd29f512"
      },
      "execution_count": null,
      "outputs": [
        {
          "output_type": "stream",
          "name": "stdout",
          "text": [
            "1 is odd\n",
            "3 is odd\n",
            "5 is odd\n",
            "7 is odd\n",
            "9 is odd\n",
            "11 is odd\n",
            "13 is odd\n",
            "15 is odd\n",
            "17 is odd\n",
            "19 is odd\n",
            "21 is odd\n",
            "23 is odd\n",
            "25 is odd\n",
            "27 is odd\n",
            "29 is odd\n",
            "31 is odd\n",
            "33 is odd\n",
            "35 is odd\n",
            "37 is odd\n",
            "39 is odd\n",
            "41 is odd\n",
            "43 is odd\n",
            "45 is odd\n",
            "47 is odd\n",
            "49 is odd\n",
            "51 is odd\n",
            "53 is odd\n",
            "55 is odd\n",
            "57 is odd\n",
            "59 is odd\n",
            "61 is odd\n",
            "63 is odd\n",
            "65 is odd\n",
            "67 is odd\n",
            "69 is odd\n",
            "71 is odd\n",
            "73 is odd\n",
            "75 is odd\n",
            "77 is odd\n",
            "79 is odd\n",
            "81 is odd\n",
            "83 is odd\n",
            "85 is odd\n",
            "87 is odd\n",
            "89 is odd\n",
            "91 is odd\n",
            "93 is odd\n",
            "95 is odd\n",
            "97 is odd\n",
            "99 is odd\n"
          ]
        }
      ]
    },
    {
      "cell_type": "code",
      "source": [
        "x=1\n",
        "while x<=100:\n",
        "  if (x%2==0):\n",
        "    print(f'{x} is even')\n",
        "  x=x+1"
      ],
      "metadata": {
        "colab": {
          "base_uri": "https://localhost:8080/"
        },
        "id": "2IwosdQ0HONz",
        "outputId": "567c1506-d32f-410e-b9ec-6f41fda16f10"
      },
      "execution_count": null,
      "outputs": [
        {
          "output_type": "stream",
          "name": "stdout",
          "text": [
            "2 is even\n",
            "4 is even\n",
            "6 is even\n",
            "8 is even\n",
            "10 is even\n",
            "12 is even\n",
            "14 is even\n",
            "16 is even\n",
            "18 is even\n",
            "20 is even\n",
            "22 is even\n",
            "24 is even\n",
            "26 is even\n",
            "28 is even\n",
            "30 is even\n",
            "32 is even\n",
            "34 is even\n",
            "36 is even\n",
            "38 is even\n",
            "40 is even\n",
            "42 is even\n",
            "44 is even\n",
            "46 is even\n",
            "48 is even\n",
            "50 is even\n",
            "52 is even\n",
            "54 is even\n",
            "56 is even\n",
            "58 is even\n",
            "60 is even\n",
            "62 is even\n",
            "64 is even\n",
            "66 is even\n",
            "68 is even\n",
            "70 is even\n",
            "72 is even\n",
            "74 is even\n",
            "76 is even\n",
            "78 is even\n",
            "80 is even\n",
            "82 is even\n",
            "84 is even\n",
            "86 is even\n",
            "88 is even\n",
            "90 is even\n",
            "92 is even\n",
            "94 is even\n",
            "96 is even\n",
            "98 is even\n",
            "100 is even\n"
          ]
        }
      ]
    },
    {
      "cell_type": "markdown",
      "source": [
        "to print even number using while loop till 100"
      ],
      "metadata": {
        "id": "f5kDfeYQBgry"
      }
    },
    {
      "cell_type": "code",
      "source": [
        ""
      ],
      "metadata": {
        "id": "ywhtOufpBfSy"
      },
      "execution_count": null,
      "outputs": []
    }
  ]
}