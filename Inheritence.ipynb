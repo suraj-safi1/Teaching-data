{
  "nbformat": 4,
  "nbformat_minor": 0,
  "metadata": {
    "colab": {
      "name": "Inheritence.ipynb",
      "provenance": [],
      "collapsed_sections": [],
      "authorship_tag": "ABX9TyNrLzi/ebOxGQXV0wgNcLFE",
      "include_colab_link": true
    },
    "kernelspec": {
      "name": "python3",
      "display_name": "Python 3"
    },
    "language_info": {
      "name": "python"
    }
  },
  "cells": [
    {
      "cell_type": "markdown",
      "metadata": {
        "id": "view-in-github",
        "colab_type": "text"
      },
      "source": [
        "<a href=\"https://colab.research.google.com/github/suraj-safi1/Teaching-data/blob/main/Inheritence.ipynb\" target=\"_parent\"><img src=\"https://colab.research.google.com/assets/colab-badge.svg\" alt=\"Open In Colab\"/></a>"
      ]
    },
    {
      "cell_type": "markdown",
      "source": [
        "Inheritence\n",
        "inheritence is a way of creating a new class from existing class "
      ],
      "metadata": {
        "id": "PxwTPZM2vXRP"
      }
    },
    {
      "cell_type": "markdown",
      "source": [
        "we can overwrite r add new attribute and methods in child class"
      ],
      "metadata": {
        "id": "1rNdzjBLvo_D"
      }
    },
    {
      "cell_type": "markdown",
      "source": [
        "we can use the methods and attributes of parent in child "
      ],
      "metadata": {
        "id": "R6SDq2NTvgNn"
      }
    },
    {
      "cell_type": "markdown",
      "source": [
        "Types of Inheritence:\n",
        "1- Single Inheritence\n",
        "2- Multiple Inheritence\n",
        "3- Multilevel Inheritence "
      ],
      "metadata": {
        "id": "UpmMqID8vxJE"
      }
    },
    {
      "cell_type": "markdown",
      "source": [
        "single inheritence:\n",
        "it occurs when child class inherits only by a single parent\n",
        "Base Class--->Drived Class\n",
        "\n"
      ],
      "metadata": {
        "id": "nmMlKG-Uv9L1"
      }
    },
    {
      "cell_type": "code",
      "source": [
        "class Emp:\n",
        "  company=\"Google\"\n",
        "  def ShowDetails(self):\n",
        "    print(f\"This is an employee: {self.company}\")\n",
        "class Programmer(Emp):\n",
        "  language='python'\n",
        "  def getlang(self):\n",
        "    print(f\"the language is:{self.language}\")\n",
        "\n",
        "e=Emp()\n",
        "p=Programmer()\n",
        "e.ShowDetails()\n",
        "p.ShowDetails()\n",
        "print(p.company)\n",
        "print(p.ShowDetails())\n"
      ],
      "metadata": {
        "colab": {
          "base_uri": "https://localhost:8080/"
        },
        "id": "z5_6r8gRvesO",
        "outputId": "222cba16-60c1-48e8-b101-1180c37fca2e"
      },
      "execution_count": null,
      "outputs": [
        {
          "output_type": "stream",
          "name": "stdout",
          "text": [
            "This is an employee: Google\n",
            "This is an employee: Google\n",
            "Google\n",
            "This is an employee: Google\n",
            "None\n"
          ]
        }
      ]
    },
    {
      "cell_type": "markdown",
      "source": [
        ""
      ],
      "metadata": {
        "id": "Cgnm97HfxrT0"
      }
    },
    {
      "cell_type": "code",
      "source": [
        ""
      ],
      "metadata": {
        "id": "ZPsFRVRdw8JA"
      },
      "execution_count": null,
      "outputs": []
    }
  ]
}