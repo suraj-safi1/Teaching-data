{
  "nbformat": 4,
  "nbformat_minor": 0,
  "metadata": {
    "colab": {
      "name": "9b_11_01_2022.ipynb",
      "provenance": [],
      "collapsed_sections": [],
      "authorship_tag": "ABX9TyOLjVfAX/msLR+97ol0gbMa",
      "include_colab_link": true
    },
    "kernelspec": {
      "name": "python3",
      "display_name": "Python 3"
    },
    "language_info": {
      "name": "python"
    }
  },
  "cells": [
    {
      "cell_type": "markdown",
      "metadata": {
        "id": "view-in-github",
        "colab_type": "text"
      },
      "source": [
        "<a href=\"https://colab.research.google.com/github/suraj-safi1/Teaching-data/blob/main/9b_11_01_2022.ipynb\" target=\"_parent\"><img src=\"https://colab.research.google.com/assets/colab-badge.svg\" alt=\"Open In Colab\"/></a>"
      ]
    },
    {
      "cell_type": "markdown",
      "source": [
        "Concatenation : It is a process of Joining two strin values"
      ],
      "metadata": {
        "id": "rMUH64AbJrl7"
      }
    },
    {
      "cell_type": "code",
      "execution_count": null,
      "metadata": {
        "colab": {
          "base_uri": "https://localhost:8080/",
          "height": 53
        },
        "id": "io1XoPW9JINY",
        "outputId": "e90e3d26-6ab5-406f-b5e7-15fd6cd00125"
      },
      "outputs": [
        {
          "output_type": "stream",
          "name": "stdout",
          "text": [
            "vineet bhatt\n"
          ]
        },
        {
          "output_type": "execute_result",
          "data": {
            "application/vnd.google.colaboratory.intrinsic+json": {
              "type": "string"
            },
            "text/plain": [
              "'vineet bhatt'"
            ]
          },
          "metadata": {},
          "execution_count": 7
        }
      ],
      "source": [
        "a=\"vineet\"\n",
        "b=\"bhatt\"\n",
        "print(a+\" \"+ b)\n",
        "type(a)\n",
        "type(b)\n",
        "a+\" \" +b"
      ]
    },
    {
      "cell_type": "markdown",
      "source": [
        "Interger "
      ],
      "metadata": {
        "id": "OD-tYCDCJqDM"
      }
    },
    {
      "cell_type": "code",
      "source": [
        "9+7"
      ],
      "metadata": {
        "colab": {
          "base_uri": "https://localhost:8080/"
        },
        "id": "2kqxczfHKIl-",
        "outputId": "ef82cf2e-6bd7-475a-fe08-219c911e531a"
      },
      "execution_count": null,
      "outputs": [
        {
          "output_type": "execute_result",
          "data": {
            "text/plain": [
              "16"
            ]
          },
          "metadata": {},
          "execution_count": 6
        }
      ]
    },
    {
      "cell_type": "code",
      "source": [
        "9*888\n"
      ],
      "metadata": {
        "colab": {
          "base_uri": "https://localhost:8080/"
        },
        "id": "INXWWGaGKWp3",
        "outputId": "2d29f57e-9b86-45fc-c718-c042eead2e74"
      },
      "execution_count": null,
      "outputs": [
        {
          "output_type": "execute_result",
          "data": {
            "text/plain": [
              "7992"
            ]
          },
          "metadata": {},
          "execution_count": 8
        }
      ]
    },
    {
      "cell_type": "code",
      "source": [
        "a=7\n",
        "if a==7: # it is comapre that is a equal to 7\n",
        "  print(\"equal\")"
      ],
      "metadata": {
        "colab": {
          "base_uri": "https://localhost:8080/"
        },
        "id": "q9ehc1U9Kd_l",
        "outputId": "61c1f75a-35ea-4c09-eb36-26b516a8989d"
      },
      "execution_count": null,
      "outputs": [
        {
          "output_type": "stream",
          "name": "stdout",
          "text": [
            "equal\n"
          ]
        }
      ]
    },
    {
      "cell_type": "code",
      "source": [
        "a='vineet'\n",
        "b=\"priyanka\"\n",
        "c=''' \n",
        "muskan \n",
        "pranjal\n",
        "riya\n",
        "rishav'''\n",
        "print(a)\n",
        "print(b)\n",
        "print(c)"
      ],
      "metadata": {
        "colab": {
          "base_uri": "https://localhost:8080/"
        },
        "id": "n3XZmiqqK5PQ",
        "outputId": "45918622-b9cf-4494-8b52-a08bb6436339"
      },
      "execution_count": null,
      "outputs": [
        {
          "output_type": "stream",
          "name": "stdout",
          "text": [
            "vineet\n",
            "priyanka\n",
            " \n",
            "muskan \n",
            "pranjal\n",
            "riya\n",
            "rishav\n"
          ]
        }
      ]
    },
    {
      "cell_type": "markdown",
      "source": [
        "Gets reminder of two number"
      ],
      "metadata": {
        "id": "5Srint_jMek7"
      }
    },
    {
      "cell_type": "code",
      "source": [
        "a=int(input(\"Enter first number\"))\n",
        "b=int(input(\"enter second number\"))\n",
        "c=(a%b)#it gets reminder of a/b\n",
        "print(c)"
      ],
      "metadata": {
        "colab": {
          "base_uri": "https://localhost:8080/"
        },
        "id": "BGxCJ5j2Lmzn",
        "outputId": "0e5293cf-9bb2-4419-c8dd-c6c4c37760a7"
      },
      "execution_count": null,
      "outputs": [
        {
          "output_type": "stream",
          "name": "stdout",
          "text": [
            "Enter first number85\n",
            "enter second number9\n",
            "4\n"
          ]
        }
      ]
    },
    {
      "cell_type": "code",
      "source": [
        "list=[\"orange\",\"apple\",\"mango\",\"banana\",\"grapes\"]\n",
        "print(list)"
      ],
      "metadata": {
        "colab": {
          "base_uri": "https://localhost:8080/"
        },
        "id": "XTA493jvMkUw",
        "outputId": "5bd265af-0472-462a-a4a1-9a2102a78876"
      },
      "execution_count": null,
      "outputs": [
        {
          "output_type": "stream",
          "name": "stdout",
          "text": [
            "['orange', 'apple', 'mango', 'banana', 'grapes']\n"
          ]
        }
      ]
    },
    {
      "cell_type": "code",
      "source": [
        "list[0:2]"
      ],
      "metadata": {
        "colab": {
          "base_uri": "https://localhost:8080/"
        },
        "id": "B94utklwMXt9",
        "outputId": "e6944698-4cd5-4de8-bf1a-98a624ae70ac"
      },
      "execution_count": null,
      "outputs": [
        {
          "output_type": "execute_result",
          "data": {
            "text/plain": [
              "['orange', 'apple']"
            ]
          },
          "metadata": {},
          "execution_count": 21
        }
      ]
    },
    {
      "cell_type": "code",
      "source": [
        "list[3]='kiwi'\n",
        "print(list)"
      ],
      "metadata": {
        "colab": {
          "base_uri": "https://localhost:8080/"
        },
        "id": "j8xkexjCNGMN",
        "outputId": "aad19446-6e06-4c23-b0fd-e902b3954a8d"
      },
      "execution_count": null,
      "outputs": [
        {
          "output_type": "stream",
          "name": "stdout",
          "text": [
            "['orange', 'apple', 'mango', 'kiwi', 'grapes']\n"
          ]
        }
      ]
    },
    {
      "cell_type": "code",
      "source": [
        "i=0\n",
        "while i<=4:\n",
        "  print(list[i]) \n",
        "  i=i+1"
      ],
      "metadata": {
        "colab": {
          "base_uri": "https://localhost:8080/"
        },
        "id": "2DWlwyrcNZBa",
        "outputId": "53420df7-e652-4fb8-9304-2530556ca8a7"
      },
      "execution_count": null,
      "outputs": [
        {
          "output_type": "stream",
          "name": "stdout",
          "text": [
            "orange\n",
            "apple\n",
            "mango\n",
            "kiwi\n",
            "grapes\n"
          ]
        }
      ]
    },
    {
      "cell_type": "code",
      "source": [
        "for x in list[0:5]:\n",
        "  print(x)"
      ],
      "metadata": {
        "colab": {
          "base_uri": "https://localhost:8080/"
        },
        "id": "vZVERC_jNvEO",
        "outputId": "178022db-1fce-4bcf-be57-9e4f5eb6fad6"
      },
      "execution_count": null,
      "outputs": [
        {
          "output_type": "stream",
          "name": "stdout",
          "text": [
            "orange\n",
            "apple\n",
            "mango\n",
            "kiwi\n",
            "grapes\n"
          ]
        }
      ]
    }
  ]
}