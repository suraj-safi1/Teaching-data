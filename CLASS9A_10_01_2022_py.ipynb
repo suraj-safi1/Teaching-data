{
  "nbformat": 4,
  "nbformat_minor": 0,
  "metadata": {
    "colab": {
      "name": "CLASS9A-10-01-2022.py",
      "provenance": [],
      "collapsed_sections": [],
      "authorship_tag": "ABX9TyOZNTSJieY+s935X5uM1DR/",
      "include_colab_link": true
    },
    "kernelspec": {
      "name": "python3",
      "display_name": "Python 3"
    },
    "language_info": {
      "name": "python"
    }
  },
  "cells": [
    {
      "cell_type": "markdown",
      "metadata": {
        "id": "view-in-github",
        "colab_type": "text"
      },
      "source": [
        "<a href=\"https://colab.research.google.com/github/suraj-safi1/Teaching-data/blob/main/CLASS9A_10_01_2022_py.ipynb\" target=\"_parent\"><img src=\"https://colab.research.google.com/assets/colab-badge.svg\" alt=\"Open In Colab\"/></a>"
      ]
    },
    {
      "cell_type": "markdown",
      "source": [
        "CONDITIONAL STATEMENT AND LOOP "
      ],
      "metadata": {
        "id": "Rc6Fj_KSJeG2"
      }
    },
    {
      "cell_type": "markdown",
      "source": [
        "CONDITION \n",
        "1 IF\n",
        "2 IF ELSE\n",
        "3 IF ELIF\n",
        "4 NESTED IF"
      ],
      "metadata": {
        "id": "jQ7leK_dJi3R"
      }
    },
    {
      "cell_type": "code",
      "source": [
        "if 1>7:\n",
        "  print(\"greater\")\n",
        "else:\n",
        "  print('not greater')"
      ],
      "metadata": {
        "colab": {
          "base_uri": "https://localhost:8080/"
        },
        "id": "fZGBckcMJroN",
        "outputId": "ed33a0eb-610e-46df-97fa-954c2c4dc56e"
      },
      "execution_count": null,
      "outputs": [
        {
          "output_type": "stream",
          "name": "stdout",
          "text": [
            "not greater\n"
          ]
        }
      ]
    },
    {
      "cell_type": "code",
      "source": [
        "a = 9\n",
        "b = 13\n",
        "if a>b:\n",
        "  print(\"a is greater\")\n",
        "else: \n",
        "  print(\"b is greater\")"
      ],
      "metadata": {
        "colab": {
          "base_uri": "https://localhost:8080/"
        },
        "id": "Cdi7BklbJ6RS",
        "outputId": "408d0379-a3d3-4533-fae4-c1f22a1ffe97"
      },
      "execution_count": null,
      "outputs": [
        {
          "output_type": "stream",
          "name": "stdout",
          "text": [
            "b is greater\n"
          ]
        }
      ]
    },
    {
      "cell_type": "code",
      "source": [
        "pip install tkinter\n"
      ],
      "metadata": {
        "colab": {
          "base_uri": "https://localhost:8080/"
        },
        "id": "Bsk8N92paWmz",
        "outputId": "c39f738b-3759-4f01-cc00-9128ff8840d2"
      },
      "execution_count": null,
      "outputs": [
        {
          "output_type": "stream",
          "name": "stdout",
          "text": [
            "\u001b[31mERROR: Could not find a version that satisfies the requirement tkinter (from versions: none)\u001b[0m\n",
            "\u001b[31mERROR: No matching distribution found for tkinter\u001b[0m\n"
          ]
        }
      ]
    },
    {
      "cell_type": "code",
      "source": [
        "import tkinter as tk\n",
        "#print(tk)\n"
      ],
      "metadata": {
        "colab": {
          "base_uri": "https://localhost:8080/"
        },
        "id": "ov5PnnFuaXY6",
        "outputId": "c1b49074-73b2-49ba-91cd-9d5082090c79"
      },
      "execution_count": null,
      "outputs": [
        {
          "output_type": "stream",
          "name": "stdout",
          "text": [
            "<module 'tkinter' from '/usr/lib/python3.7/tkinter/__init__.py'>\n"
          ]
        }
      ]
    },
    {
      "cell_type": "code",
      "source": [
        "a = int(input(\"Enter first number \"))\n",
        "b = int(input(\"Enter second number \"))\n",
        "if a>b:\n",
        "  print(f\"{a} is greater than {b}\")\n",
        "else: \n",
        "  print(f\"{b} is greater than  {a}\")"
      ],
      "metadata": {
        "colab": {
          "base_uri": "https://localhost:8080/"
        },
        "id": "ykaxmRlvKI2i",
        "outputId": "5795fb78-2d2e-4c5a-ac87-74b7fa7bf9e6"
      },
      "execution_count": null,
      "outputs": [
        {
          "output_type": "stream",
          "name": "stdout",
          "text": [
            "Enter first number 78\n",
            "Enter second number 99\n",
            "99 is greater than  78\n"
          ]
        }
      ]
    },
    {
      "cell_type": "code",
      "source": [
        "a = int(input(\"Enter first number \"))\n",
        "b = int(input(\"Enter second number \"))\n",
        "c = int(input(\"Enter third number \"))\n",
        "if a>b:\n",
        "  if a>c:\n",
        "    print(f\"{a} is greatest from {b} and {c}\")\n",
        "if b>c:\n",
        "  if b>a:\n",
        "    print(f\"{b} is greatest from {a} and {c}\")\n",
        "else:\n",
        "  print(f\"{c} is greatest from {a} and {b}\") \n"
      ],
      "metadata": {
        "colab": {
          "base_uri": "https://localhost:8080/"
        },
        "id": "RcMFLCpQKrpu",
        "outputId": "3fc09a8b-c854-4bed-d991-36fc2cf66942"
      },
      "execution_count": null,
      "outputs": [
        {
          "output_type": "stream",
          "name": "stdout",
          "text": [
            "Enter first number 56\n",
            "Enter second number 43\n",
            "Enter third number 78\n",
            "78 is greatest from 56 and 43\n"
          ]
        }
      ]
    },
    {
      "cell_type": "markdown",
      "source": [
        "f string- it is used to represent integer vaLUE AS STRING IN OUTPUT CONSOLE.\n",
        "\n",
        "> Indented block\n",
        "\n"
      ],
      "metadata": {
        "id": "OUm8nfszSxBs"
      }
    },
    {
      "cell_type": "code",
      "source": [
        "a=int(input(\"Enter a number\"))\n",
        "if a%2==0:\n",
        "  print(f\"{a} is even\")\n",
        "elif a%2!=0:\n",
        "  print(f\"{a} is odd\")\n",
        "else:\n",
        "  print(\"Please insert valid number\")"
      ],
      "metadata": {
        "colab": {
          "base_uri": "https://localhost:8080/"
        },
        "id": "QpgFfc1yL_KU",
        "outputId": "86491b47-4065-477e-9668-aebeee0e4bef"
      },
      "execution_count": null,
      "outputs": [
        {
          "output_type": "stream",
          "name": "stdout",
          "text": [
            "Enter a number78\n",
            "78 is even\n"
          ]
        }
      ]
    },
    {
      "cell_type": "code",
      "source": [
        ""
      ],
      "metadata": {
        "id": "qOZQyhPVNBJg"
      },
      "execution_count": null,
      "outputs": []
    },
    {
      "cell_type": "markdown",
      "source": [
        "loop \n",
        "1-while\n",
        "2-for "
      ],
      "metadata": {
        "id": "UHrK-_3xNErn"
      }
    },
    {
      "cell_type": "code",
      "source": [
        "a=1\n",
        "while a<101:\n",
        "    if (a%2==0):\n",
        "      print(f\"{a} is even\")\n",
        "    else:\n",
        "      print(f\"{a} is odd\")\n",
        "    a=a+1"
      ],
      "metadata": {
        "colab": {
          "base_uri": "https://localhost:8080/"
        },
        "id": "KBdZT7eVNLsP",
        "outputId": "d1affa3d-b7e2-4d95-8ad4-26b73a9b6213"
      },
      "execution_count": null,
      "outputs": [
        {
          "output_type": "stream",
          "name": "stdout",
          "text": [
            "1 is odd\n",
            "2 is even\n",
            "3 is odd\n",
            "4 is even\n",
            "5 is odd\n",
            "6 is even\n",
            "7 is odd\n",
            "8 is even\n",
            "9 is odd\n",
            "10 is even\n",
            "11 is odd\n",
            "12 is even\n",
            "13 is odd\n",
            "14 is even\n",
            "15 is odd\n",
            "16 is even\n",
            "17 is odd\n",
            "18 is even\n",
            "19 is odd\n",
            "20 is even\n",
            "21 is odd\n",
            "22 is even\n",
            "23 is odd\n",
            "24 is even\n",
            "25 is odd\n",
            "26 is even\n",
            "27 is odd\n",
            "28 is even\n",
            "29 is odd\n",
            "30 is even\n",
            "31 is odd\n",
            "32 is even\n",
            "33 is odd\n",
            "34 is even\n",
            "35 is odd\n",
            "36 is even\n",
            "37 is odd\n",
            "38 is even\n",
            "39 is odd\n",
            "40 is even\n",
            "41 is odd\n",
            "42 is even\n",
            "43 is odd\n",
            "44 is even\n",
            "45 is odd\n",
            "46 is even\n",
            "47 is odd\n",
            "48 is even\n",
            "49 is odd\n",
            "50 is even\n",
            "51 is odd\n",
            "52 is even\n",
            "53 is odd\n",
            "54 is even\n",
            "55 is odd\n",
            "56 is even\n",
            "57 is odd\n",
            "58 is even\n",
            "59 is odd\n",
            "60 is even\n",
            "61 is odd\n",
            "62 is even\n",
            "63 is odd\n",
            "64 is even\n",
            "65 is odd\n",
            "66 is even\n",
            "67 is odd\n",
            "68 is even\n",
            "69 is odd\n",
            "70 is even\n",
            "71 is odd\n",
            "72 is even\n",
            "73 is odd\n",
            "74 is even\n",
            "75 is odd\n",
            "76 is even\n",
            "77 is odd\n",
            "78 is even\n",
            "79 is odd\n",
            "80 is even\n",
            "81 is odd\n",
            "82 is even\n",
            "83 is odd\n",
            "84 is even\n",
            "85 is odd\n",
            "86 is even\n",
            "87 is odd\n",
            "88 is even\n",
            "89 is odd\n",
            "90 is even\n",
            "91 is odd\n",
            "92 is even\n",
            "93 is odd\n",
            "94 is even\n",
            "95 is odd\n",
            "96 is even\n",
            "97 is odd\n",
            "98 is even\n",
            "99 is odd\n",
            "100 is even\n"
          ]
        }
      ]
    },
    {
      "cell_type": "code",
      "source": [
        "a= int(input(\"enter a number\"))\n",
        "i=2\n",
        "prime=True\n",
        "while i<a:\n",
        "          if a%i==0:\n",
        "              prime=False\n",
        "          i=i+1\n",
        "if prime:\n",
        "  print(f'{a} is prime')\n",
        "else: \n",
        "  print(f'{a} is not prime')"
      ],
      "metadata": {
        "colab": {
          "base_uri": "https://localhost:8080/"
        },
        "id": "avFIKDm4UF2-",
        "outputId": "e4d9e53f-ae6d-4411-e025-09be6be22ffe"
      },
      "execution_count": null,
      "outputs": [
        {
          "output_type": "stream",
          "name": "stdout",
          "text": [
            "enter a number66\n",
            "66 is not prime\n"
          ]
        }
      ]
    },
    {
      "cell_type": "code",
      "source": [
        "a=0\n",
        "while a<=100:\n",
        "  print(a)\n",
        "  a=a+1"
      ],
      "metadata": {
        "id": "KlwuOsKyNowu"
      },
      "execution_count": null,
      "outputs": []
    },
    {
      "cell_type": "code",
      "source": [
        "a=1\n",
        "while a<100:\n",
        "  if a%5==0:\n",
        "    print(a)\n",
        "  a=a+1"
      ],
      "metadata": {
        "id": "hGpU8EVGOOnd"
      },
      "execution_count": null,
      "outputs": []
    },
    {
      "cell_type": "code",
      "source": [
        "a=int(input(\"Enter Number to print table\"))\n",
        "i=1\n",
        "while i<11:\n",
        "  print(f'{a} X {i} = {a *i}')\n",
        "  i=i+1"
      ],
      "metadata": {
        "colab": {
          "base_uri": "https://localhost:8080/"
        },
        "id": "9myxRDyfOXPX",
        "outputId": "ccb0e85e-c3c1-410f-c3f7-65bebb860508"
      },
      "execution_count": null,
      "outputs": [
        {
          "output_type": "stream",
          "name": "stdout",
          "text": [
            "Enter Number to print table17\n",
            "17 X 1 = 17\n",
            "17 X 2 = 34\n",
            "17 X 3 = 51\n",
            "17 X 4 = 68\n",
            "17 X 5 = 85\n",
            "17 X 6 = 102\n",
            "17 X 7 = 119\n",
            "17 X 8 = 136\n",
            "17 X 9 = 153\n",
            "17 X 10 = 170\n"
          ]
        }
      ]
    },
    {
      "cell_type": "code",
      "source": [
        ""
      ],
      "metadata": {
        "id": "EkjNJpMYOgSf"
      },
      "execution_count": null,
      "outputs": []
    }
  ]
}